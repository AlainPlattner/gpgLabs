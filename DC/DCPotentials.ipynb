{
 "cells": [
  {
   "cell_type": "code",
   "execution_count": 1,
   "metadata": {
    "collapsed": false
   },
   "outputs": [],
   "source": [
    "from SimPEG import *\n",
    "# import sys\n",
    "# sys.path.append(\"./simpegdc/\")\n",
    "import simpegDCIP as DC\n",
    "\n",
    "import matplotlib.pyplot as plt\n",
    "from matplotlib.colors import LogNorm\n",
    "\n",
    "try:\n",
    "    from ipywidgets import interact, IntSlider, FloatSlider, FloatText, ToggleButtons\n",
    "    pass\n",
    "except Exception, e:\n",
    "    from IPython.html.widgets import  interact, IntSlider, FloatSlider, FloatText, ToggleButtons\n",
    "    \n",
    "%matplotlib inline"
   ]
  },
  {
   "cell_type": "code",
   "execution_count": 2,
   "metadata": {
    "collapsed": true
   },
   "outputs": [],
   "source": [
    "npad = 4\n",
    "cs = 2.\n",
    "hx = [(cs,npad, -1.3),(cs,50),(cs,npad, 1.3)]\n",
    "hy = [(cs,npad, -1.3),(cs,25)]\n",
    "mesh = Mesh.TensorMesh([hx, hy], \"CN\")"
   ]
  },
  {
   "cell_type": "code",
   "execution_count": 3,
   "metadata": {
    "collapsed": false
   },
   "outputs": [],
   "source": [
    "def get_Layer_Potentials(rho1,rho2,h,A,B,xyz,infty=20):\n",
    "#     xyz = Utils.ndgrid(x,y,z)\n",
    "    k = (rho2-rho1) / (rho2+rho1)\n",
    "    \n",
    "    eps = 1e-6 #to stabilize division\n",
    "    r = lambda src_loc: np.sqrt((xyz[:,0] - src_loc[0])**2 + (xyz[:,1] - src_loc[1])**2 + (xyz[:,2] - src_loc[2])**2)+eps\n",
    "\n",
    "    m = Utils.mkvc(np.arange(1,infty+1))\n",
    "    sum_term = lambda r: np.sum(((k**m.T)*np.ones_like(Utils.mkvc(r,2))) / np.sqrt(1. + (2.*h*m.T/Utils.mkvc(r,2))**2),1)\n",
    "    \n",
    "    V = lambda I,src_loc: (I*rho1 / (2.*np.pi*r(src_loc))) * (1 + 2*sum_term(r(src_loc)))\n",
    "    \n",
    "    VA = V(1.,A)\n",
    "    VB = V(-1.,B)\n",
    "    \n",
    "    return VA+VB"
   ]
  },
  {
   "cell_type": "code",
   "execution_count": 4,
   "metadata": {
    "collapsed": false
   },
   "outputs": [],
   "source": [
    "h = 5.\n",
    "rhomin = 1e2\n",
    "rhomax = 1e3\n",
    "cs = 1.\n",
    "hx = [(cs,80+1)]\n",
    "hy = [(cs,40)]\n",
    "mesh_layers = Mesh.TensorMesh([hx, hy], \"CN\")\n",
    "M,N = -10.,10.\n",
    "\n",
    " \n",
    "G = lambda A, B, M, N: 1. / ( 1./np.abs(A-M) - 1./np.abs(M-B) - 1./np.abs(N-A) + 1./np.abs(N-B) )\n",
    "rho_a = lambda VM,VN, A,B,M,N: (VM-VN)*2.*np.pi*G(A,B,M,N)"
   ]
  },
  {
   "cell_type": "code",
   "execution_count": 23,
   "metadata": {
    "collapsed": false
   },
   "outputs": [],
   "source": [
    "def plot_Layer_Potentials(rho1,rho2,h,A,B,M,N,imgplt='model'):\n",
    "    \n",
    "    ylim = np.r_[-1., 1.]*rhomax/(4*2*np.pi)\n",
    "\n",
    "    fig, ax = plt.subplots(2,1,figsize=(9,7))\n",
    "\n",
    "    fig.subplots_adjust(right=0.8)\n",
    "    x = np.linspace(-40.,40.,200)\n",
    "    z = np.linspace(x.min(),0,100)\n",
    "    \n",
    "    pltgrid = Utils.ndgrid(x,z)\n",
    "    xplt = pltgrid[:,0].reshape(x.size,z.size,order='F')\n",
    "    zplt = pltgrid[:,1].reshape(x.size,z.size,order='F')\n",
    "\n",
    "    V = get_Layer_Potentials(rho1,rho2,h,np.r_[A,0.,0.],np.r_[B,0.,0.],Utils.ndgrid(x,np.r_[0.],np.r_[0.]))\n",
    "    VM = get_Layer_Potentials(rho1,rho2,h,np.r_[A,0.,0.],np.r_[B,0.,0.],Utils.mkvc(np.r_[M,0.,0],2).T)\n",
    "    VN = get_Layer_Potentials(rho1,rho2,h,np.r_[A,0.,0.],np.r_[B,0.,0.],Utils.mkvc(np.r_[N,0.,0],2).T)\n",
    "\n",
    "    ax[0].plot(x,V,color=[0.1,0.5,0.1],linewidth=2)\n",
    "    ax[0].grid(which='both',linestyle='-',linewidth=0.5,color=[0.2,0.2,0.2],alpha=0.5)\n",
    "#     ax[0].plot(A,0,'+',markersize = 12, markeredgewidth = 3, color=[1.,0.,0])\n",
    "#     ax[0].plot(B,0,'_',markersize = 12, markeredgewidth = 3, color=[0.,0.,1.])\n",
    "    ax[0].set_ylabel('Potential, (V)',fontsize = 14)\n",
    "    ax[0].set_xlabel('x (m)',fontsize = 14)\n",
    "    ax[0].set_xlim([x.min(),x.max()])\n",
    "    ax[0].set_ylim(ylim)\n",
    "\n",
    "    ax[0].plot(M,VM,'o',color='k')\n",
    "    ax[0].plot(N,VN,'o',color='k')\n",
    "\n",
    "    props = dict(boxstyle='round', facecolor='grey', alpha=0.3)\n",
    "\n",
    "    txtsp = 1e-4\n",
    "\n",
    "    if A < B:\n",
    "        if M <= A:\n",
    "            xytextM = (M-0.5,VM+txtsp)\n",
    "        elif M > A:\n",
    "            xytextM = (M+0.5,VM+txtsp)\n",
    "\n",
    "        if N <= B:\n",
    "            xytextN = (N+0.5,VN+txtsp)\n",
    "        elif N > B:\n",
    "            xytextN = (N+0.5,VN-txtsp)\n",
    "\n",
    "    elif A > B:\n",
    "        print 'here'\n",
    "\n",
    "    props = dict(boxstyle='round', facecolor='grey', alpha=0.4)\n",
    "\n",
    "    ax[0].annotate('%2.1e'%(VM), xy=(M,VM), xytext=xytextM,fontsize = 14)\n",
    "    ax[0].annotate('%2.1e'%(VN), xy=(N,VN), xytext=xytextN,fontsize = 14)\n",
    "\n",
    "    ax[0].plot(np.r_[M,N],np.ones(2)*VN,color='k')\n",
    "    ax[0].plot(np.r_[M,M],np.r_[VM, VN],color='k')\n",
    "    ax[0].annotate('%2.1e'%(VM-VN) , xy=(M,(VM+VN)/2), xytext=(M-9,(VM+VN)/2.),fontsize = 14)\n",
    "\n",
    "    props = dict(boxstyle='round', facecolor='grey', alpha=0.4)\n",
    "    ax[0].text(x.max()+1,ylim.min()+ylim.max()-0.1*ylim.min(),'$\\\\rho_a$ = %2.2f'%(rho_a(VM,VN,A,B,M,N)),\n",
    "                verticalalignment='bottom', bbox=props, fontsize = 14)\n",
    "\n",
    "    if imgplt is 'model':\n",
    "        model = rho2*np.ones(pltgrid.shape[0])\n",
    "        model[pltgrid[:,1] >= -h] = rho1\n",
    "        model = model.reshape(x.size,z.size, order='F')\n",
    "        cb = ax[1].pcolor(xplt, zplt, model,norm=LogNorm())\n",
    "        clim = [rhomin,rhomax]\n",
    "\n",
    "    elif imgplt is 'potential':\n",
    "        Vplt = get_Layer_Potentials(rho1,rho2,h,np.r_[A,0.,0.],np.r_[B,0.,0.],np.c_[pltgrid,np.zeros_like(pltgrid[:,0])])\n",
    "        Vplt = Vplt.reshape(x.size,z.size, order='F')\n",
    "        cb = ax[1].pcolor(xplt,zplt,Vplt)\n",
    "        ax[1].contour(xplt,zplt,np.abs(Vplt),np.logspace(-2.,1.,10),colors='k',alpha=0.5)\n",
    "        ax[1].set_ylabel('z (m)', fontsize=14)\n",
    "        clim = ylim\n",
    "\n",
    "    elif imgplt is 'e':\n",
    "        Px = mesh.getInterpolationMat(pltgrid,'Fx')\n",
    "        Pz = mesh.getInterpolationMat(pltgrid,'Fy')\n",
    "        Vmesh = get_Layer_Potentials(rho1,rho2,h,np.r_[A,0.,0.],np.r_[B,0.,0.],np.c_[mesh.gridCC,np.zeros(mesh.nC)])\n",
    "        Emesh = -mesh.cellGrad*Vmesh\n",
    "        Ex = (Px * Emesh).reshape(x.size,z.size,order='F')\n",
    "        Ez = (Pz * Emesh).reshape(x.size,z.size,order='F')\n",
    "        cb = ax[1].pcolor(xplt,zplt,np.sqrt(Ex**2.+Ez**2.),norm=LogNorm())\n",
    "        ax[1].streamplot(x,z,Ex.T,Ez.T,color = 'k')\n",
    "\n",
    "    elif imgplt is 'j':\n",
    "        rho_model = rho2*np.ones(pltgrid.shape[0])\n",
    "        rho_model[pltgrid[:,1] >= -h] = rho1\n",
    "\n",
    "        Px = mesh.getInterpolationMat(pltgrid,'Fx')\n",
    "        Pz = mesh.getInterpolationMat(pltgrid,'Fy')\n",
    "        Vmesh = get_Layer_Potentials(rho1,rho2,h,np.r_[A,0.,0.],np.r_[B,0.,0.],np.c_[mesh.gridCC,np.zeros(mesh.nC)])\n",
    "        Emesh = -mesh.cellGrad*Vmesh\n",
    "\n",
    "        Jx = (Utils.sdiag(1./rho_model) * Px * Emesh).reshape(x.size,z.size,order='F')\n",
    "        Jz = (Utils.sdiag(1./rho_model) * Pz * Emesh).reshape(x.size,z.size,order='F')\n",
    "\n",
    "        J = np.sqrt(Jx**2.+Jz**2.)\n",
    "\n",
    "        cb = ax[1].pcolor(xplt,zplt,J,norm=LogNorm())\n",
    "        ax[1].streamplot(x,z,Jx.T,Jz.T,color = 'k') #,linewidth = 2.5*(np.log(J.T)-np.log(J.T).min())/np.max(np.abs(np.log(J))))   \n",
    "        ax[1].set_ylabel('z (m)', fontsize=14)\n",
    "\n",
    "    ax[1].set_xlim([x.min(),x.max()])\n",
    "    ax[1].set_ylim([z.min(),0.])\n",
    "    ax[1].set_ylabel('z (m)', fontsize=14)\n",
    "    cbar_ax = fig.add_axes([1., 0.08, 0.04, 0.4])\n",
    "    plt.colorbar(cb,cax=cbar_ax)\n",
    "    if 'clim' in locals():\n",
    "        cb.set_clim(clim)\n",
    "    ax[1].set_xlabel('x(m)',fontsize=14)\n",
    "\n",
    "    plt.tight_layout()\n",
    "    plt.show"
   ]
  },
  {
   "cell_type": "code",
   "execution_count": 24,
   "metadata": {
    "collapsed": false
   },
   "outputs": [
    {
     "data": {
      "text/plain": [
       "None"
      ]
     },
     "metadata": {},
     "output_type": "display_data"
    },
    {
     "data": {
      "image/png": "[encoded data removed]",
      "text/plain": [
       "<matplotlib.figure.Figure at 0x10ae47c10>"
      ]
     },
     "metadata": {},
     "output_type": "display_data"
    }
   ],
   "source": [
    "plot_Layer_Potentials_interact = lambda rho1,rho2,h,A,B,M,N,Plot: plot_Layer_Potentials(rho1,rho2,h,A,B,M,N,Plot)\n",
    "app = interact(plot_Layer_Potentials_interact,\n",
    "            rho1 = FloatSlider(min=rhomin,max=rhomax,step=10.,value = rhomin),\n",
    "            rho2 = FloatSlider(min=rhomin,max=rhomax,step=10.,value = rhomax),\n",
    "            h = FloatSlider(min=0.,max=40.,step=1.,value=0.),\n",
    "            A = FloatSlider(min=-40.,max=40.,step=1.,value=-30.),\n",
    "            B = FloatSlider(min=-40.,max=40.,step=1.,value=30.),\n",
    "            M = FloatSlider(min=-40.,max=40.,step=1.,value=-10.),\n",
    "            N = FloatSlider(min=-40.,max=40.,step=1.,value=10.),\n",
    "            Plot = ToggleButtons(options =['model','potential','e','j'],value='model'),\n",
    "            )"
   ]
  },
  {
   "cell_type": "code",
   "execution_count": null,
   "metadata": {
    "collapsed": true
   },
   "outputs": [],
   "source": []
  }
 ],
 "metadata": {
  "kernelspec": {
   "display_name": "Python 2",
   "language": "python",
   "name": "python2"
  },
  "language_info": {
   "codemirror_mode": {
    "name": "ipython",
    "version": 2
   },
   "file_extension": ".py",
   "mimetype": "text/x-python",
   "name": "python",
   "nbconvert_exporter": "python",
   "pygments_lexer": "ipython2",
   "version": "2.7.10"
  }
 },
 "nbformat": 4,
 "nbformat_minor": 0
}
