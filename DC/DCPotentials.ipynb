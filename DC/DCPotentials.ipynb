{
 "cells": [
  {
   "cell_type": "code",
   "execution_count": 1,
   "metadata": {
    "collapsed": false
   },
   "outputs": [],
   "source": [
    "from SimPEG import *\n",
    "import sys\n",
    "sys.path.append(\"./simpegdc/\")\n",
    "import simpegDCIP as DC\n",
    "\n",
    "import matplotlib.pyplot as plt\n",
    "\n",
    "%matplotlib inline"
   ]
  },
  {
   "cell_type": "code",
   "execution_count": 2,
   "metadata": {
    "collapsed": true
   },
   "outputs": [],
   "source": [
    "npad = 10\n",
    "cs = 2.\n",
    "hx = [(cs,npad, -1.3),(cs,100),(cs,npad, 1.3)]\n",
    "hy = [(cs,npad, -1.3),(cs,100)]\n",
    "mesh = Mesh.TensorMesh([hx, hy], \"CN\")\n",
    "\n",
    "circmap = Maps.CircleMap(mesh)\n",
    "circmap.slope = 1e5\n",
    "xr = np.linspace(-40, 40, 20)\n",
    "dxr = np.diff(xr)\n",
    "\n",
    "txList = []\n",
    "zloc = -2.5"
   ]
  },
  {
   "cell_type": "code",
   "execution_count": 3,
   "metadata": {
    "collapsed": false
   },
   "outputs": [
    {
     "data": {
      "text/plain": [
       "array([120, 110])"
      ]
     },
     "execution_count": 3,
     "metadata": {},
     "output_type": "execute_result"
    }
   ],
   "source": [
    "mesh.vnC"
   ]
  },
  {
   "cell_type": "code",
   "execution_count": 4,
   "metadata": {
    "collapsed": false
   },
   "outputs": [],
   "source": [
    "A, B = -47., +47.\n",
    "src = DC.SrcDipole([],np.r_[A,cs/2.],np.r_[B,cs/2.])\n",
    "\n",
    "survey = DC.SurveyDC([src])\n",
    "problem = DC.ProblemDC_CC(mesh, mapping = circmap)\n",
    "\n",
    "# DC.ProblemDC\n",
    "problem.pair(survey)"
   ]
  },
  {
   "cell_type": "code",
   "execution_count": 5,
   "metadata": {
    "collapsed": false
   },
   "outputs": [],
   "source": [
    "sigblk, sighalf = 2e-3, 2e-3\n",
    "xc, yc, r = -15, -8, 4\n",
    "model = np.r_[np.log(sigblk), np.log(sighalf), xc, yc, r]"
   ]
  },
  {
   "cell_type": "code",
   "execution_count": 6,
   "metadata": {
    "collapsed": false
   },
   "outputs": [
    {
     "name": "stdout",
     "output_type": "stream",
     "text": [
      "[13116 13163]\n",
      "[ 4.  4.]\n"
     ]
    }
   ],
   "source": [
    "fields = problem.fields(model)"
   ]
  },
  {
   "cell_type": "code",
   "execution_count": 7,
   "metadata": {
    "collapsed": false
   },
   "outputs": [],
   "source": [
    "phi = fields[:]['phi_sol']"
   ]
  },
  {
   "cell_type": "code",
   "execution_count": 8,
   "metadata": {
    "collapsed": false
   },
   "outputs": [
    {
     "data": {
      "text/plain": [
       "array([ 47.,  -1.])"
      ]
     },
     "execution_count": 8,
     "metadata": {},
     "output_type": "execute_result"
    }
   ],
   "source": [
    "mesh.gridCC[13116,:]\n",
    "mesh.gridCC[13163,:]"
   ]
  },
  {
   "cell_type": "code",
   "execution_count": null,
   "metadata": {
    "collapsed": true
   },
   "outputs": [],
   "source": []
  },
  {
   "cell_type": "code",
   "execution_count": 9,
   "metadata": {
    "collapsed": false
   },
   "outputs": [
    {
     "data": {
      "image/png": "[encoded data removed]",
      "text/plain": [
       "<matplotlib.figure.Figure at 0x7f24ed871e90>"
      ]
     },
     "metadata": {},
     "output_type": "display_data"
    }
   ],
   "source": [
    "mesh.plotImage(phi)\n",
    "plt.show()"
   ]
  },
  {
   "cell_type": "code",
   "execution_count": 10,
   "metadata": {
    "collapsed": false
   },
   "outputs": [],
   "source": [
    "x = mesh.gridCC[0:mesh.vnC[0],0]\n",
    "P = mesh.getInterpolationMat(Utils.ndgrid(x,np.r_[-1.]),'CC')\n",
    "phiplt = P*phi"
   ]
  },
  {
   "cell_type": "code",
   "execution_count": 11,
   "metadata": {
    "collapsed": false
   },
   "outputs": [
    {
     "data": {
      "text/plain": [
       "(-100.0, 100.0)"
      ]
     },
     "execution_count": 11,
     "metadata": {},
     "output_type": "execute_result"
    },
    {
     "data": {
      "image/png": "[encoded data removed]",
      "text/plain": [
       "<matplotlib.figure.Figure at 0x7f24eb0c9390>"
      ]
     },
     "metadata": {},
     "output_type": "display_data"
    }
   ],
   "source": [
    "fig, ax = plt.subplots(1,1)\n",
    "ax.plot(x,phiplt)\n",
    "ax.grid(which='both')\n",
    "ax.set_xlim([-100.,100.])"
   ]
  },
  {
   "cell_type": "code",
   "execution_count": 32,
   "metadata": {
    "collapsed": false
   },
   "outputs": [
    {
     "data": {
      "text/plain": [
       "array([-197.02484375, -172.63449519, -153.87268861, -139.4405297 ,\n",
       "       -128.338869  , -119.79913   , -113.2301    , -108.177     ,\n",
       "       -104.29      , -101.3       ,  -99.        ,  -97.        ,\n",
       "        -95.        ,  -93.        ,  -91.        ,  -89.        ,\n",
       "        -87.        ,  -85.        ,  -83.        ,  -81.        ,\n",
       "        -79.        ,  -77.        ,  -75.        ,  -73.        ,\n",
       "        -71.        ,  -69.        ,  -67.        ,  -65.        ,\n",
       "        -63.        ,  -61.        ,  -59.        ,  -57.        ,\n",
       "        -55.        ,  -53.        ,  -51.        ,  -49.        ,\n",
       "        -47.        ,  -45.        ,  -43.        ,  -41.        ,\n",
       "        -39.        ,  -37.        ,  -35.        ,  -33.        ,\n",
       "        -31.        ,  -29.        ,  -27.        ,  -25.        ,\n",
       "        -23.        ,  -21.        ,  -19.        ,  -17.        ,\n",
       "        -15.        ,  -13.        ,  -11.        ,   -9.        ,\n",
       "         -7.        ,   -5.        ,   -3.        ,   -1.        ,\n",
       "          1.        ,    3.        ,    5.        ,    7.        ,\n",
       "          9.        ,   11.        ,   13.        ,   15.        ,\n",
       "         17.        ,   19.        ,   21.        ,   23.        ,\n",
       "         25.        ,   27.        ,   29.        ,   31.        ,\n",
       "         33.        ,   35.        ,   37.        ,   39.        ,\n",
       "         41.        ,   43.        ,   45.        ,   47.        ,\n",
       "         49.        ,   51.        ,   53.        ,   55.        ,\n",
       "         57.        ,   59.        ,   61.        ,   63.        ,\n",
       "         65.        ,   67.        ,   69.        ,   71.        ,\n",
       "         73.        ,   75.        ,   77.        ,   79.        ,\n",
       "         81.        ,   83.        ,   85.        ,   87.        ,\n",
       "         89.        ,   91.        ,   93.        ,   95.        ,\n",
       "         97.        ,   99.        ,  101.3       ,  104.29      ,\n",
       "        108.177     ,  113.2301    ,  119.79913   ,  128.338869  ,\n",
       "        139.4405297 ,  153.87268861,  172.63449519,  197.02484375])"
      ]
     },
     "execution_count": 32,
     "metadata": {},
     "output_type": "execute_result"
    }
   ],
   "source": [
    "mesh.gridCC[0:mesh.vnC[0],0]"
   ]
  },
  {
   "cell_type": "code",
   "execution_count": null,
   "metadata": {
    "collapsed": false
   },
   "outputs": [],
   "source": []
  },
  {
   "cell_type": "code",
   "execution_count": null,
   "metadata": {
    "collapsed": true
   },
   "outputs": [],
   "source": []
  }
 ],
 "metadata": {
  "kernelspec": {
   "display_name": "Python 2",
   "language": "python",
   "name": "python2"
  },
  "language_info": {
   "codemirror_mode": {
    "name": "ipython",
    "version": 2
   },
   "file_extension": ".py",
   "mimetype": "text/x-python",
   "name": "python",
   "nbconvert_exporter": "python",
   "pygments_lexer": "ipython2",
   "version": "2.7.10"
  }
 },
 "nbformat": 4,
 "nbformat_minor": 0
}
