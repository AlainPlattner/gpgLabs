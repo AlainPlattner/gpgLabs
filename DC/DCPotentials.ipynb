{
 "cells": [
  {
   "cell_type": "code",
   "execution_count": 4,
   "metadata": {
    "collapsed": false
   },
   "outputs": [],
   "source": [
    "from SimPEG import *\n",
    "import simpegDC as DC"
   ]
  },
  {
   "cell_type": "code",
   "execution_count": 5,
   "metadata": {
    "collapsed": true
   },
   "outputs": [],
   "source": [
    "npad = 8\n",
    "cs = 1.\n",
    "hx = [(cs,npad, -1.3),(cs,100),(cs,npad, 1.3)]\n",
    "hy = [(cs,npad, -1.3),(cs,50)]\n",
    "msh = Mesh.TensorMesh([hx, hy], \"CN\")\n",
    "\n",
    "circmap = Maps.CircleMap(msh)\n",
    "circmap.slope = 1e5\n",
    "mapping = circmap\n",
    "xr = np.linspace(-40, 40, 20)\n",
    "dxr = np.diff(xr)\n",
    "\n",
    "txList = []\n",
    "zloc = -2.5"
   ]
  },
  {
   "cell_type": "code",
   "execution_count": 6,
   "metadata": {
    "collapsed": true
   },
   "outputs": [],
   "source": [
    "A, B = -20., 20"
   ]
  },
  {
   "cell_type": "code",
   "execution_count": null,
   "metadata": {
    "collapsed": true
   },
   "outputs": [],
   "source": []
  }
 ],
 "metadata": {
  "kernelspec": {
   "display_name": "Python 2",
   "language": "python",
   "name": "python2"
  },
  "language_info": {
   "codemirror_mode": {
    "name": "ipython",
    "version": 2
   },
   "file_extension": ".py",
   "mimetype": "text/x-python",
   "name": "python",
   "nbconvert_exporter": "python",
   "pygments_lexer": "ipython2",
   "version": "2.7.10"
  }
 },
 "nbformat": 4,
 "nbformat_minor": 0
}
