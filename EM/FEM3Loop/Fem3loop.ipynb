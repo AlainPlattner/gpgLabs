{
 "cells": [
  {
   "cell_type": "markdown",
   "metadata": {},
   "source": [
    "# Lab 8: Electromagnetics Part I\n",
    "\n",
    "In this notebook, we consider a 3 loop system, consisting of a transmitter loop, receiver loop, and target loop. \n",
    "\n",
    "<img src=\"./Figures/SurveyParams.png\" style=\"width: 60%; height: 60%\"> </img>\n",
    "\n",
    "\n",
    "## Import Necessary Packages"
   ]
  },
  {
   "cell_type": "code",
   "execution_count": null,
   "metadata": {
    "collapsed": false
   },
   "outputs": [],
   "source": [
    "%matplotlib inline\n",
    "from FEM3loop import *"
   ]
  },
  {
   "cell_type": "markdown",
   "metadata": {},
   "source": [
    "\n",
    "Your Default Parameters should be: \n",
    "\n",
    "<table>\n",
    "<tr>\n",
    "<th>Parameter </th>\n",
    "<th>Default value</th>\n",
    "</tr>\n",
    "<tr>\n",
    "<td>Inductance:</td>\n",
    "<td>L = 0.1</td>\n",
    "</tr>\n",
    "<tr>\n",
    "<td>Resistance:</td>\n",
    "<td>R = 2000</td>\n",
    "</tr>\n",
    "<tr>\n",
    "<td>X-center of target loop:</td>\n",
    "<td>xc = 0</td>\n",
    "</tr>\n",
    "<tr>\n",
    "<td>Y-center of target loop:</td>\n",
    "<td>yc = 0</td>\n",
    "</tr>\n",
    "<tr>\n",
    "<td>Z-center of target loop:</td>\n",
    "<td>zc = 1</td>\n",
    "</tr>\n",
    "<tr>\n",
    "<td>Inclination of target loop:</td>\n",
    "<td>dincl = 0</td>\n",
    "</tr>\n",
    "<tr>\n",
    "<td>Declination of target loop:</td>\n",
    "<td>ddecl = 90</td>\n",
    "</tr>\n",
    "<tr>\n",
    "<td>Frequency:</td>\n",
    "<td>f = 10000 </td>\n",
    "</tr>\n",
    "<tr>\n",
    "<td>Sample spacing:</td>\n",
    "<td>dx = 0.25 </td>\n",
    "</tr>\n",
    "</table>\n",
    "\n",
    "To use the default parameters below, either click the box for \"default\" or adjust the sliders for R, zc, and dx. When answering the lab questions, make sure all the sliders are where they should be!"
   ]
  },
  {
   "cell_type": "markdown",
   "metadata": {},
   "source": [
    "## Run FEM3loop Widget"
   ]
  },
  {
   "cell_type": "code",
   "execution_count": null,
   "metadata": {
    "collapsed": false,
    "scrolled": true
   },
   "outputs": [],
   "source": [
    "fem3loop = interactfem3loop()\n",
    "fem3loop"
   ]
  },
  {
   "cell_type": "code",
   "execution_count": null,
   "metadata": {
    "collapsed": true
   },
   "outputs": [],
   "source": []
  }
 ],
 "metadata": {
  "kernelspec": {
   "display_name": "Python 2",
   "language": "python",
   "name": "python2"
  },
  "language_info": {
   "codemirror_mode": {
    "name": "ipython",
    "version": 2
   },
   "file_extension": ".py",
   "mimetype": "text/x-python",
   "name": "python",
   "nbconvert_exporter": "python",
   "pygments_lexer": "ipython2",
   "version": "2.7.10"
  }
 },
 "nbformat": 4,
 "nbformat_minor": 0
}
