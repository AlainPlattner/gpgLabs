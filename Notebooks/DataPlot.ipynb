{
 "cells": [
  {
   "cell_type": "code",
   "execution_count": null,
   "metadata": {
    "collapsed": true
   },
   "outputs": [],
   "source": [
    "from matplotlib import pyplot as plt\n",
    "import pandas as pd\n",
    "%matplotlib inline\n",
    "\n",
    "def plot_data(data):\n",
    "\n",
    "    fig, ax0 = plt.figure(figsize=(8,6)), plt.subplot()\n",
    "    \n",
    "    if data is 'MonSt':\n",
    "        filename = \"../NotebookCode/Mag/data/Lab1_monday_TA.csv\"\n",
    "        \n",
    "        dat = pd.DataFrame(pd.read_csv(filename, header = 0))\n",
    "        tf  = dat[\"MAG_MEAN\"].values\n",
    "        std = dat[\"STDEV\"].values\n",
    "        loc = dat[\"station\"].values\n",
    "        ax0.scatter(loc,tf)\n",
    "        ax0.plot(loc,tf)\n",
    "        ax0.errorbar(loc,tf,yerr=std,linestyle = \"None\",color=\"k\")\n",
    "    \n",
    "    else: \n",
    "        filename = \"../NotebookCode/Mag/data/Lab1_Wednesday_student.csv\"\n",
    "\n",
    "        dat = pd.DataFrame(pd.read_csv(filename, header = 0))\n",
    "        tf  = dat[\"MAG_MEAN\"].values\n",
    "        std = dat[\"STDEV\"].values\n",
    "        loc = dat[\"station\"].values\n",
    "        ax0.scatter(loc,tf)\n",
    "        ax0.plot(loc,tf,lw=3)\n",
    "        ax0.errorbar(loc,tf,yerr=std,linestyle = \"None\",color=\"k\")\n",
    "        \n",
    "        filename = \"../NotebookCode/Mag/data/Lab1_Wednesday_TA.csv\"\n",
    "\n",
    "        dat = pd.DataFrame(pd.read_csv(filename, header = 0))\n",
    "        tf  = dat[\"MAG_MEAN\"].values\n",
    "        std = dat[\"STDEV\"].values\n",
    "        loc = dat[\"station\"].values\n",
    "        ax0.scatter(loc,tf)\n",
    "        ax0.plot(loc,tf,c='r',lw=3)\n",
    "        ax0.errorbar(loc,tf,yerr=std,linestyle = \"None\",color=\"k\")\n",
    "\n",
    "        ax0.legend((\"Students\",\"TA\",))\n",
    "\n",
    "    ax0.grid(which=\"both\")\n",
    "    ax0.set_xlim((0,20))\n",
    "    ax0.set_ylim((53500,55000))\n",
    "    ax0.set_xlabel(\"Northing (m)\")\n",
    "    ax0.set_ylabel(\"Total field anomaly (nT)\")\n",
    "    \n",
    "    plt.show()\n",
    "    fig.savefig(data+'../NotebookCode/Mag/data/Data.png')\n",
    "    "
   ]
  },
  {
   "cell_type": "code",
   "execution_count": null,
   "metadata": {
    "collapsed": true
   },
   "outputs": [],
   "source": [
    "plot_data('WedSt')"
   ]
  },
  {
   "cell_type": "code",
   "execution_count": null,
   "metadata": {
    "collapsed": true
   },
   "outputs": [],
   "source": []
  }
 ],
 "metadata": {
  "kernelspec": {
   "display_name": "Python [default]",
   "language": "python",
   "name": "python2"
  },
  "language_info": {
   "codemirror_mode": {
    "name": "ipython",
    "version": 2
   },
   "file_extension": ".py",
   "mimetype": "text/x-python",
   "name": "python",
   "nbconvert_exporter": "python",
   "pygments_lexer": "ipython2",
   "version": "2.7.13"
  }
 },
 "nbformat": 4,
 "nbformat_minor": 1
}
