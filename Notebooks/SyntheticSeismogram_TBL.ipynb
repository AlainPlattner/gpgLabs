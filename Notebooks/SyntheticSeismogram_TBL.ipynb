{
 "cells": [
  {
   "cell_type": "markdown",
   "metadata": {},
   "source": [
    "# Seismic Resolution and Forward Modelling"
   ]
  },
  {
   "cell_type": "code",
   "execution_count": 1,
   "metadata": {
    "collapsed": true
   },
   "outputs": [],
   "source": [
    "# Import the necessary packages\n",
    "%matplotlib inline   \n",
    "from gpgLabs.Seismic.SyntheticSeismogram.syntheticSeismogram import *  "
   ]
  },
  {
   "cell_type": "markdown",
   "metadata": {},
   "source": [
    "When referring to vertical resolution, the question to ask is: \"Can the two arrivals (one from the top, and one from the bottom of the layer) be distinguished?\" \n",
    "\n",
    "Adjust the layer thickness for the middle layer (by adjusting d2 and/or d3) and the frequency of the input pulse to investigate vertical resolution. You can also add noise to the trace. \n",
    "\n",
    "The geologic model is:\n",
    "<img src=\"https://github.com/geoscixyz/gpgLabs/blob/OrganizeNotebooks/figures/Seismic/geoModel.png?raw=true\" style=\"width: 50%; height: 50%\"></img>\n"
   ]
  },
  {
   "cell_type": "markdown",
   "metadata": {},
   "source": [
    "Parameters of the below widget are:\n",
    "\n",
    "- d2: depth of the interface between layer 1 and 2\n",
    "- d3: depth of the interface between layer 2 and 3\n",
    "- rho1: density of the layer 1 ($kg/m^3$)\n",
    "- rho2: density of the layer 2 ($kg/m^3$)\n",
    "- rho3: density of the layer 3 ($kg/m^3$)\n",
    "- v1: velocity of the layer 1 ($m/s$)\n",
    "- v2: velocity of the layer 2 ($m/s$)\n",
    "- v3: velocity of the layer 3 ($m/s$)\n",
    "- wavef: peak frequency of the Ricker wavelet\n",
    "- waveA: amplitude of Ricker wavelet\n",
    "- AddNoise: swith for adding noise \n",
    "- usingT: switch for considering transmission coefficient for reflectivity"
   ]
  },
  {
   "cell_type": "code",
   "execution_count": 2,
   "metadata": {},
   "outputs": [
    {
     "data": {
      "application/vnd.jupyter.widget-view+json": {
       "model_id": "1a092aa96e464b8c95ca49111e119bab"
      }
     },
     "metadata": {},
     "output_type": "display_data"
    },
    {
     "data": {
      "text/plain": [
       "<function gpgLabs.Seismic.SyntheticSeismogram.syntheticSeismogram.plotSeismogramInteractTBL>"
      ]
     },
     "execution_count": 2,
     "metadata": {},
     "output_type": "execute_result"
    }
   ],
   "source": [
    "InteractSeismogramTBL()"
   ]
  },
  {
   "cell_type": "code",
   "execution_count": null,
   "metadata": {
    "collapsed": true
   },
   "outputs": [],
   "source": []
  }
 ],
 "metadata": {
  "anaconda-cloud": {},
  "kernelspec": {
   "display_name": "Python [default]",
   "language": "python",
   "name": "python2"
  },
  "language_info": {
   "codemirror_mode": {
    "name": "ipython",
    "version": 2
   },
   "file_extension": ".py",
   "mimetype": "text/x-python",
   "name": "python",
   "nbconvert_exporter": "python",
   "pygments_lexer": "ipython2",
   "version": "2.7.13"
  }
 },
 "nbformat": 4,
 "nbformat_minor": 1
}
