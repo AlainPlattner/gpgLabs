{
 "cells": [
  {
   "cell_type": "markdown",
   "metadata": {},
   "source": [
    "# TBL 6: Expo site characterization using EM-31\n",
    "\n",
    "\n",
    "## Import Necessary Packages"
   ]
  },
  {
   "cell_type": "code",
   "execution_count": 1,
   "metadata": {},
   "outputs": [],
   "source": [
    "%matplotlib inline\n",
    "from gpgLabs.EM.FEMpipe import *"
   ]
  },
  {
   "cell_type": "markdown",
   "metadata": {},
   "source": [
    "# Pipe Widget\n",
    "\n",
    "In the following app, we consider a loop-loop system with a pipe taget. Here, we simulate two surveys, one where the boom is oriented East-West (EW) and one where the boom is oriented North-South (NS). \n",
    "\n",
    "<img src=\"https://github.com/geoscixyz/gpgLabs/blob/OrganizeNotebooks/figures/EM/FEMpipe/model.png?raw=true\" style=\"width: 40%; height: 40%\"> </img>\n",
    "\n",
    "The variables are:\n",
    "\n",
    "- alpha: \n",
    "$$\\alpha = \\frac{\\omega L}{R} = \\frac{2\\pi f L}{R}$$\n",
    "- pipedepth: Depth of the pipe center\n",
    "\n",
    "We plot the percentage of Hp/Hs ratio in the Widget. "
   ]
  },
  {
   "cell_type": "code",
   "execution_count": 2,
   "metadata": {},
   "outputs": [
    {
     "data": {
      "application/vnd.jupyter.widget-view+json": {
       "model_id": "90524413a66b42afa1387c295b23a341"
      }
     },
     "metadata": {},
     "output_type": "display_data"
    }
   ],
   "source": [
    "pipe = interact_femPipe()\n",
    "pipe"
   ]
  },
  {
   "cell_type": "code",
   "execution_count": null,
   "metadata": {
    "collapsed": true
   },
   "outputs": [],
   "source": []
  }
 ],
 "metadata": {
  "anaconda-cloud": {},
  "kernelspec": {
   "display_name": "Python [default]",
   "language": "python",
   "name": "python2"
  },
  "language_info": {
   "codemirror_mode": {
    "name": "ipython",
    "version": 2
   },
   "file_extension": ".py",
   "mimetype": "text/x-python",
   "name": "python",
   "nbconvert_exporter": "python",
   "pygments_lexer": "ipython2",
   "version": "2.7.13"
  }
 },
 "nbformat": 4,
 "nbformat_minor": 1
}
