{
 "cells": [
  {
   "cell_type": "markdown",
   "metadata": {
    "extensions": {
     "jupyter_dashboards": {
      "version": 1,
      "views": {
       "grid_default": {
        "col": 0,
        "height": 11,
        "hidden": false,
        "row": 0,
        "width": 12
       },
       "report_default": {
        "hidden": false
       }
      }
     }
    }
   },
   "source": [
    "This is the <a href=\"https://jupyter.org/\">Jupyter Notebook</a>, an interactive coding and computation environment. For this lab, you do not have to write any code, you will only be running it. \n",
    "\n",
    "To use the notebook:\n",
    "- \"Shift + Enter\" runs the code within the cell (so does the forward arrow button near the top of the document)\n",
    "- You can alter variables and re-run cells\n",
    "- If you want to start with a clean slate, restart the Kernel either by going to the top, clicking on Kernel: Restart, or by \"esc + 00\" (if you do this, you will need to re-run the following block of code before running any other cells in the notebook) \n",
    "\n",
    "This notebook uses code adapted from \n",
    "\n",
    "SimPEG\n",
    "- Cockett, R., S. Kang, L.J. Heagy, A. Pidlisecky, D.W. Oldenburg (2015, in review), SimPEG: An open source framework for simulation and gradient based parameter estimation in geophysical applications. Computers and Geosciences"
   ]
  },
  {
   "cell_type": "code",
   "execution_count": 1,
   "metadata": {
    "extensions": {
     "jupyter_dashboards": {
      "version": 1,
      "views": {
       "grid_default": {
        "col": 0,
        "height": 3,
        "hidden": true,
        "row": 11,
        "width": 12
       },
       "report_default": {
        "hidden": true
       }
      }
     }
    }
   },
   "outputs": [],
   "source": [
    "from gpgLabs.Mag import *\n",
    "from SimPEG import PF, Utils, Mesh\n",
    "%matplotlib inline"
   ]
  },
  {
   "cell_type": "markdown",
   "metadata": {
    "extensions": {
     "jupyter_dashboards": {
      "version": 1,
      "views": {
       "grid_default": {
        "col": 0,
        "height": 21,
        "hidden": false,
        "row": 22,
        "width": null
       },
       "report_default": {
        "hidden": false
       }
      }
     }
    }
   },
   "source": [
    "# How do we define direction of an earth magnetic field?\n",
    "\n",
    "Earth magnetic field is a vector. To define a vector we need to choose a coordinate system. We use right-handed system: \n",
    "- X (Easting), \n",
    "- Y (Northing), and \n",
    "- Z (Up). \n",
    "\n",
    "Here we consider an earth magnetic field ($\\vec{B_0}$), of which intensity is one. To define this unit vector, we use inclinatino and declination:\n",
    "- Declination: An angle from geographic North (Ng) (positive clockwise)\n",
    "- Inclination: Vertical angle from the N-E plane (positive down)\n",
    "\n",
    "<img src=\"https://github.com/geoscixyz/gpgLabs/raw/master/figures/Mag/earthfield.png?raw=true\" style=\"width: 60%; height: 60%\"> </img>"
   ]
  },
  {
   "cell_type": "markdown",
   "metadata": {
    "extensions": {
     "jupyter_dashboards": {
      "version": 1,
      "views": {
       "grid_default": {
        "col": 0,
        "height": 18,
        "hidden": false,
        "row": 43,
        "width": null
       },
       "report_default": {
        "hidden": false
       }
      }
     }
    }
   },
   "source": [
    "# What's data: total field anomaly\n",
    "\n",
    "We consider a typical form of magnetic data. To illustrate this we consider an suceptible object embedded in the earth. \n",
    "Based upon the earth magnetic field ($\\vec{B}_0$), this object will generate anomalous magnetic field ($\\vec{B}_A$). We define an unit vector $\\hat{B}_0$ for the earth field as \n",
    "$$ \\hat{B}_0 = \\frac{\\vec{B}_0}{|\\vec{B}_0|}$$ \n",
    "We measure both earth and anomalous magnetic field such that\n",
    "\n",
    "$$ \\vec{B} = \\vec{B}_0 + \\vec{B}_A$$\n",
    "\n",
    "Total field anomaly, $\\triangle \\vec{B}$ can be defined as\n",
    "\n",
    "$$  |\\triangle \\vec{B}| = |\\vec{B}|-|\\vec{B}_E| $$ \n",
    "\n",
    "If $|\\vec{B}|\\ll|\\vec{B}_E|$, then that is total field anomaly $\\triangle \\vec{B}$ is the projection of the anomalous field onto the direction of the earth field:\n",
    "\n",
    "$$ |\\triangle \\vec{B}| \\simeq \\vec{B}_A \\cdot \\hat{B}_0=|\\vec{B}_A|cos\\theta$$ \n",
    "\n",
    "<img src=\"https://github.com/geoscixyz/gpgLabs/raw/master/figures/Mag/totalfieldanomaly.png?raw=true\" style=\"width: 50%; height: 50%\">"
   ]
  },
  {
   "cell_type": "markdown",
   "metadata": {
    "extensions": {
     "jupyter_dashboards": {
      "version": 1,
      "views": {
       "grid_default": {
        "col": 0,
        "height": 11,
        "hidden": false,
        "row": 11,
        "width": 6
       },
       "report_default": {
        "hidden": false
       }
      }
     }
    }
   },
   "source": [
    "# Define a 3D prism\n",
    "Our model is a rectangular prism. Parameters to define this prism are given below:\n",
    "\n",
    "- dx: length in Easting (x) direction (meter)\n",
    "- dy: length in Northing (y) direction (meter)\n",
    "- dz: length in Depth (z) direction (meter) below the receiver\n",
    "- depth: top boundary of the prism (meter)\n",
    "- pinc: inclination of the prism (reference is a unit northing vector; degree)\n",
    "- pdec: declination of the prism (reference is a unit northing vector; degree)\n",
    "\n",
    "You can also change the height of the survey grid above the ground\n",
    "- rx_h: height of the grid (meter)\n",
    "\n",
    "*Green dots show a plane where we measure data.*"
   ]
  },
  {
   "cell_type": "code",
   "execution_count": 5,
   "metadata": {
    "extensions": {
     "jupyter_dashboards": {
      "version": 1,
      "views": {
       "grid_default": {
        "col": 0,
        "height": 28,
        "hidden": false,
        "row": 61,
        "width": 6
       },
       "report_default": {
        "hidden": true
       }
      }
     }
    }
   },
   "outputs": [
    {
     "data": {
      "application/vnd.jupyter.widget-view+json": {
       "model_id": "98b2e13490344feb9e8090fd94feae2c",
       "version_major": 2,
       "version_minor": 0
      },
      "text/html": [
       "<p>Failed to display Jupyter Widget of type <code>interactive</code>.</p>\n",
       "<p>\n",
       "  If you're reading this message in the Jupyter Notebook or JupyterLab Notebook, it may mean\n",
       "  that the widgets JavaScript is still loading. If this message persists, it\n",
       "  likely means that the widgets JavaScript library is either not installed or\n",
       "  not enabled. See the <a href=\"https://ipywidgets.readthedocs.io/en/stable/user_install.html\">Jupyter\n",
       "  Widgets Documentation</a> for setup instructions.\n",
       "</p>\n",
       "<p>\n",
       "  If you're reading this message in another frontend (for example, a static\n",
       "  rendering on GitHub or <a href=\"https://nbviewer.jupyter.org/\">NBViewer</a>),\n",
       "  it may mean that your frontend doesn't currently support widgets.\n",
       "</p>\n"
      ],
      "text/plain": [
       "interactive(children=(FloatSlider(value=557366.1875, continuous_update=False, description='East', max=558589.8125, min=556142.5625, step=10.0), FloatSlider(value=7133715.0, continuous_update=False, description='North', max=7134746.0, min=7132684.0, step=10.0), FloatSlider(value=1284.80625, continuous_update=False, description='Width', max=1284.80625, min=10.0, step=10.0), FloatSlider(value=1082.55, continuous_update=False, description='Height', max=1082.55, min=10.0, step=10.0), FloatSlider(value=0.0, continuous_update=False, description='Azimuth', max=90.0, min=-90.0, step=5.0), FloatSlider(value=800.0342399899207, continuous_update=False, description='Length', max=800.0342399899207, min=10.0, step=10.0), BoundedFloatText(value=20.0, description='Npts', min=10.0, step=1.0), ToggleButton(value=False, description='Profile'), Output()), _dom_classes=('widget-interact',))"
      ]
     },
     "metadata": {},
     "output_type": "display_data"
    }
   ],
   "source": [
    "#Input parameters\n",
    "fileName = 'http://github.com/geoscixyz/gpgLabs/raw/master/assets/Mag/data/DO27_TMI.dat'\n",
    "xyzd = np.genfromtxt(fileName, skip_header=3)\n",
    "B = np.r_[60308, 83.8, 25.4]\n",
    "survey = Mag.createMagSurvey(xyzd, B)\n",
    "# View the data and chose a profile\n",
    "param = Simulator.ViewMagSurvey2D(survey)\n",
    "display(param)"
   ]
  },
  {
   "cell_type": "code",
   "execution_count": 3,
   "metadata": {},
   "outputs": [
    {
     "data": {
      "application/vnd.jupyter.widget-view+json": {
       "model_id": "d21f2987e762422e9559a9db834bbecb",
       "version_major": 2,
       "version_minor": 0
      },
      "text/html": [
       "<p>Failed to display Jupyter Widget of type <code>interactive</code>.</p>\n",
       "<p>\n",
       "  If you're reading this message in the Jupyter Notebook or JupyterLab Notebook, it may mean\n",
       "  that the widgets JavaScript is still loading. If this message persists, it\n",
       "  likely means that the widgets JavaScript library is either not installed or\n",
       "  not enabled. See the <a href=\"https://ipywidgets.readthedocs.io/en/stable/user_install.html\">Jupyter\n",
       "  Widgets Documentation</a> for setup instructions.\n",
       "</p>\n",
       "<p>\n",
       "  If you're reading this message in another frontend (for example, a static\n",
       "  rendering on GitHub or <a href=\"https://nbviewer.jupyter.org/\">NBViewer</a>),\n",
       "  it may mean that your frontend doesn't currently support widgets.\n",
       "</p>\n"
      ],
      "text/plain": [
       "interactive(children=(ToggleButton(value=False, description='Refresh'), FloatSlider(value=152.953125, continuous_update=False, description='dx', max=1000.0, min=0.01, step=0.01), FloatSlider(value=152.953125, continuous_update=False, description='dy', max=1000.0, min=0.01, step=0.01), FloatSlider(value=152.953125, continuous_update=False, description='dz', max=1000.0, min=0.01, step=0.01), FloatSlider(value=557366.0601626019, continuous_update=False, description='x0', max=558366.0601626019, min=556366.0601626019, step=1.0), FloatSlider(value=7133719.0121951215, continuous_update=False, description='y0', max=7134719.0121951215, min=7132719.0121951215, step=1.0), FloatSlider(value=0.0, continuous_update=False, description='elev', max=1000.0, min=-1000.0, step=1.0), FloatSlider(value=0.0, description='prism_inc', max=90.0, min=-90.0, step=5.0), FloatSlider(value=0.0, description='prism_dec', max=90.0, min=-90.0, step=5.0), FloatSlider(value=30.0, continuous_update=False, description='View_dip', max=90.0, step=1.0), FloatSlider(value=220.0, continuous_update=False, description='View_azm', max=360.0, step=1.0), FloatSlider(value=611.8125, continuous_update=False, description='View_lim', max=1223.625, min=1.0, step=1.0), Output()), _dom_classes=('widget-interact',))"
      ]
     },
     "metadata": {},
     "output_type": "display_data"
    }
   ],
   "source": [
    "# Define the parametric model interactively\n",
    "model = Simulator.ViewPrism(param.result)\n",
    "display(model)"
   ]
  },
  {
   "cell_type": "markdown",
   "metadata": {
    "extensions": {
     "jupyter_dashboards": {
      "version": 1,
      "views": {
       "grid_default": {
        "col": 6,
        "height": 11,
        "hidden": false,
        "row": 11,
        "width": 6
       },
       "report_default": {
        "hidden": false
       }
      }
     }
    }
   },
   "source": [
    "# Magnetic applet\n",
    "Based on the prism that you made above, below Magnetic applet computes magnetic field at receiver locations, and provide both 2D map (left) and profile line (right). \n",
    "\n",
    "For the prism, you can alter:\n",
    "- sus: susceptibility of the prism\n",
    "\n",
    "Parameters for the earth field are:\n",
    "- Einc: inclination of the earth field (degree)\n",
    "- Edec: declination of the earth field (degree)\n",
    "- Bigrf: intensity of the earth field (nT)\n",
    "\n",
    "For data, you can view:\n",
    "- tf: total field anomaly,  \n",
    "- bx :x-component, \n",
    "- by :y-component, \n",
    "- bz :z-component\n",
    "\n",
    "You can simulate and view remanent magnetization effect with parameters:\n",
    "- irt: \"induced\", \"remanent\", or \"total\"\n",
    "- Q: Koenigsberger ratio ($\\frac{M_{rem}}{M_{ind}}$)\n",
    "- rinc: inclination of the remanent magnetization (degree)\n",
    "- rdec: declination of the remanent magnetization (degree)\n"
   ]
  },
  {
   "cell_type": "code",
   "execution_count": 4,
   "metadata": {
    "extensions": {
     "jupyter_dashboards": {
      "version": 1,
      "views": {
       "grid_default": {
        "col": 6,
        "height": 28,
        "hidden": false,
        "row": 61,
        "width": 6
       },
       "report_default": {
        "hidden": true
       }
      }
     }
    }
   },
   "outputs": [
    {
     "data": {
      "application/vnd.jupyter.widget-view+json": {
       "model_id": "87803bc44cef4d84835c9eeb6d227b31",
       "version_major": 2,
       "version_minor": 0
      },
      "text/html": [
       "<p>Failed to display Jupyter Widget of type <code>interactive</code>.</p>\n",
       "<p>\n",
       "  If you're reading this message in the Jupyter Notebook or JupyterLab Notebook, it may mean\n",
       "  that the widgets JavaScript is still loading. If this message persists, it\n",
       "  likely means that the widgets JavaScript library is either not installed or\n",
       "  not enabled. See the <a href=\"https://ipywidgets.readthedocs.io/en/stable/user_install.html\">Jupyter\n",
       "  Widgets Documentation</a> for setup instructions.\n",
       "</p>\n",
       "<p>\n",
       "  If you're reading this message in another frontend (for example, a static\n",
       "  rendering on GitHub or <a href=\"https://nbviewer.jupyter.org/\">NBViewer</a>),\n",
       "  it may mean that your frontend doesn't currently support widgets.\n",
       "</p>\n"
      ],
      "text/plain": [
       "interactive(children=(ToggleButton(value=False, description='Refresh'), FloatSlider(value=0.1, continuous_update=False, description='susc', max=2.0, step=0.001), ToggleButtons(description='comp', options=('tf', 'bx', 'by', 'bz'), value='tf'), ToggleButtons(description='irt', options=('induced', 'remanent', 'total'), value='induced'), FloatSlider(value=0.0, continuous_update=False, description='Q', max=10.0, step=1.0), FloatSlider(value=0.0, continuous_update=False, description='RemInc', max=90.0, min=-90.0, step=5.0), FloatSlider(value=0.0, continuous_update=False, description='RemDec', max=90.0, min=-90.0, step=5.0), BoundedFloatText(value=20.0, description='Profile_npt', min=10.0, step=1.0), FloatSlider(value=45.0, continuous_update=False, description='Profile_azm', max=90.0, min=-90.0, step=5.0), FloatSlider(value=800.0342399899207, continuous_update=False, description='Profile_len', max=800.0342399899207, min=10.0, step=10.0), FloatSlider(value=557366.1875, continuous_update=False, description='Profile_ctx', max=557978.0, min=556754.375), FloatSlider(value=7133715.0, continuous_update=False, description='Profile_cty', max=7134230.5, min=7133199.5), Output()), _dom_classes=('widget-interact',))"
      ]
     },
     "metadata": {},
     "output_type": "display_data"
    }
   ],
   "source": [
    "plotwidget = Simulator.PFSimulator(model, param)\n",
    "display(plotwidget)"
   ]
  }
 ],
 "metadata": {
  "anaconda-cloud": {},
  "extensions": {
   "jupyter_dashboards": {
    "activeView": "report_default",
    "version": 1,
    "views": {
     "grid_default": {
      "cellMargin": 10,
      "defaultCellHeight": 20,
      "maxColumns": 12,
      "name": "grid",
      "type": "grid"
     },
     "report_default": {
      "name": "report",
      "type": "report"
     }
    }
   }
  },
  "kernelspec": {
   "display_name": "Python [conda env:simpeg]",
   "language": "python",
   "name": "conda-env-simpeg-py"
  },
  "language_info": {
   "codemirror_mode": {
    "name": "ipython",
    "version": 3
   },
   "file_extension": ".py",
   "mimetype": "text/x-python",
   "name": "python",
   "nbconvert_exporter": "python",
   "pygments_lexer": "ipython3",
   "version": "3.6.4"
  },
  "widgets": {
   "state": {
    "2c77e5c891dd44069234331d87475ef2": {
     "views": [
      {
       "cell_index": 5
      }
     ]
    }
   },
   "version": "1.2.0"
  }
 },
 "nbformat": 4,
 "nbformat_minor": 1
}
