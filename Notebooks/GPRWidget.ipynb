{
 "cells": [
  {
   "cell_type": "markdown",
   "metadata": {},
   "source": [
    "# Ground Penetrating Radar Widget"
   ]
  },
  {
   "cell_type": "markdown",
   "metadata": {},
   "source": [
    "Ground Penetrating Radar (GPR) uses electromagnetic (EM) energy. We emit EM signals using a source antenna and receive signals from the earth using a receiver antenna, like your cell phone. Physically, the source antenna generates EM wave and it propgates throuth the earth. Prior to considering how to process or interpret data, we need to identify how this EM wave propates in the earth.\n",
    "\n",
    "Using this GPR widget, you will:\n",
    "\n",
    "- Step 1: Find a layered earth model that fits a clean common shot gather\n",
    "- Step 2: Find a layered earth model that fits CMP data\n",
    "- Step 3: Find parameters desribing a pipe and slab in a CMP profile data set \n",
    "\n",
    "The data you will examine in steps 2-3 were collected near UBC"
   ]
  },
  {
   "cell_type": "markdown",
   "metadata": {},
   "source": [
    "## Step 0: Import Necessary Packages"
   ]
  },
  {
   "cell_type": "code",
   "execution_count": 1,
   "metadata": {},
   "outputs": [
    {
     "data": {
      "image/png": "[encoded data removed]",
      "text/plain": [
       "<matplotlib.figure.Figure at 0x9ed54e0>"
      ]
     },
     "metadata": {},
     "output_type": "display_data"
    }
   ],
   "source": [
    "%matplotlib inline\n",
    "from gpgLabs.GPR.GPRimport import *\n",
    "from gpgLabs.GPR.AttenuationImport import *"
   ]
  },
  {
   "cell_type": "markdown",
   "metadata": {},
   "source": [
    "# Step 1: Synthetic data fitting App "
   ]
  },
  {
   "cell_type": "markdown",
   "metadata": {},
   "source": [
    "We provide below measured EM signals at receiver locations for a model similar to the one presented at Figure 1 in the lab instructions. \n",
    "\n",
    "The problem here is that you do not know material properties of three layer model (air, layer 1, and layer 2). In this step, you will estimate the geologic model corresponding to the measured data by adjusting given parameters.\n",
    "\n",
    "Parameters given here:\n",
    "- epsrL: relative permittivity for a linear arrival (direct or refracted wave)\n",
    "- epsrH: relative permittivity for a hyperbolic arrival (reflection)\n",
    "- tinterpL: intercept time for a linear arrival (direct or refracted wave)\n",
    "- tinterpH: intercept time for a hyperbolic arrival (reflection)"
   ]
  },
  {
   "cell_type": "markdown",
   "metadata": {},
   "source": [
    "###### Note: the input signal is a negative Ricker Wavelet preceded by a 10ns flat signal."
   ]
  },
  {
   "cell_type": "code",
   "execution_count": 2,
   "metadata": {},
   "outputs": [
    {
     "data": {
      "application/vnd.jupyter.widget-view+json": {
       "model_id": "936160d92bd3450d97beef39e7ce68c4"
      }
     },
     "metadata": {},
     "output_type": "display_data"
    }
   ],
   "source": [
    "i = interact(PrimaryWidget, epsrL = (1, 10, 1), epsrH = (1, 20, 1), tinterpL = (0, 150, 2), tinterpH = (0, 150, 2))"
   ]
  },
  {
   "cell_type": "markdown",
   "metadata": {},
   "source": [
    "## Step 2: Parametric field data fitting App for CMP survey"
   ]
  },
  {
   "cell_type": "markdown",
   "metadata": {},
   "source": [
    "We move on treating field GPR data set, which was acquired near University of British Columbia, Canada. The first observed data set you will work with is a common midpoint survey. In this step, you will estimate velocity of the ground by adjusting the given parameters. \n",
    "\n",
    "Parameters given here:\n",
    "- epsr: Relative permittivity for direct wave\n",
    "- tinterp: intercept time for direct wave"
   ]
  },
  {
   "cell_type": "code",
   "execution_count": 3,
   "metadata": {},
   "outputs": [
    {
     "data": {
      "application/vnd.jupyter.widget-view+json": {
       "model_id": "dfb4dc06d4b84ef4af16dcdfdb701a7d"
      }
     },
     "metadata": {},
     "output_type": "display_data"
    }
   ],
   "source": [
    "ifield = interact(PrimaryFieldWidget,  tinterp = (0, 80, 2), epsr = (1, 40, 1))"
   ]
  },
  {
   "cell_type": "markdown",
   "metadata": {},
   "source": [
    "## Step 3: Field data fitting App for a profile line"
   ]
  },
  {
   "cell_type": "markdown",
   "metadata": {},
   "source": [
    "The second data set you will work with is a common offset profile line of GPR data collected near UBC. There are two features in the data that you will fit: a pipe (using the red curve in the first plot below) and a concrete slab (using the blue curve in the second plot below). \n"
   ]
  },
  {
   "cell_type": "markdown",
   "metadata": {},
   "source": [
    "### Step 4a: A pipe model"
   ]
  },
  {
   "cell_type": "markdown",
   "metadata": {},
   "source": [
    "Parameters given here:\n",
    "- epsr: Relative permittivity of the background medium\n",
    "- h: Distance from center of the pipe to the surface\n",
    "- xc: Horizontal location of the pipe center\n",
    "- r: radius of the pipe"
   ]
  },
  {
   "cell_type": "markdown",
   "metadata": {},
   "source": [
    "<img src=\"https://github.com/geoscixyz/gpgLabs/blob/OrganizeNotebooks/figures/GPR/pipemodel.png?raw=true\" width=\"500\"></img>"
   ]
  },
  {
   "cell_type": "code",
   "execution_count": 4,
   "metadata": {},
   "outputs": [
    {
     "data": {
      "application/vnd.jupyter.widget-view+json": {
       "model_id": "41deff6430804d428b8de859fb31ea30"
      }
     },
     "metadata": {},
     "output_type": "display_data"
    }
   ],
   "source": [
    "i = interact(PipeWidget, epsr = (0, 100, 1), h=(0.1, 2.0, 0.1), xc=(0., 40., 0.2), r=(0.1, 3, 0.1) )"
   ]
  },
  {
   "cell_type": "markdown",
   "metadata": {},
   "source": [
    "### Step 4b: A slab model"
   ]
  },
  {
   "cell_type": "markdown",
   "metadata": {},
   "source": [
    "Parameters given here:\n",
    "- epsr: Relative permittivity of the background medium\n",
    "- h: Distance from top boundary of concrete casing to the surface\n",
    "- x1: horizontal location of left boundary of the concrete casing model\n",
    "- x2: horizontal location of right boundary of the concrete casing model\n"
   ]
  },
  {
   "cell_type": "markdown",
   "metadata": {},
   "source": [
    "<img src=\"https://github.com/geoscixyz/gpgLabs/blob/OrganizeNotebooks/figures/GPR/slabmodel.png?raw=true\" width=\"500\"></img>"
   ]
  },
  {
   "cell_type": "code",
   "execution_count": 5,
   "metadata": {
    "scrolled": true
   },
   "outputs": [
    {
     "data": {
      "application/vnd.jupyter.widget-view+json": {
       "model_id": "fa2bb99bb8664a8991da74fafdfa3fa3"
      }
     },
     "metadata": {},
     "output_type": "display_data"
    }
   ],
   "source": [
    "i = interact(WallWidget, epsr = (0, 100, 1), h=(0.1, 2.0, 0.1), x1=(1, 35, 1), x2=(20, 40, 1) )"
   ]
  },
  {
   "cell_type": "code",
   "execution_count": null,
   "metadata": {
    "collapsed": true
   },
   "outputs": [],
   "source": []
  },
  {
   "cell_type": "code",
   "execution_count": null,
   "metadata": {
    "collapsed": true
   },
   "outputs": [],
   "source": []
  },
  {
   "cell_type": "code",
   "execution_count": null,
   "metadata": {
    "collapsed": true
   },
   "outputs": [],
   "source": []
  },
  {
   "cell_type": "code",
   "execution_count": null,
   "metadata": {
    "collapsed": true
   },
   "outputs": [],
   "source": []
  }
 ],
 "metadata": {
  "anaconda-cloud": {},
  "kernelspec": {
   "display_name": "Python [default]",
   "language": "python",
   "name": "python2"
  },
  "language_info": {
   "codemirror_mode": {
    "name": "ipython",
    "version": 2
   },
   "file_extension": ".py",
   "mimetype": "text/x-python",
   "name": "python",
   "nbconvert_exporter": "python",
   "pygments_lexer": "ipython2",
   "version": "2.7.13"
  },
  "widgets": {
   "state": {
    "50cfd9e25142477285f01ec37e34f3b3": {
     "views": [
      {
       "cell_index": 20
      }
     ]
    },
    "70e5d1caabdd46dfb366d65b13393657": {
     "views": [
      {
       "cell_index": 16
      }
     ]
    },
    "92c87604cdcd48fdb4eaa9ed3579a14f": {
     "views": [
      {
       "cell_index": 7
      }
     ]
    },
    "ae5794be77dd4b3c958003dc8bf3f9cc": {
     "views": [
      {
       "cell_index": 10
      }
     ]
    }
   },
   "version": "1.2.0"
  }
 },
 "nbformat": 4,
 "nbformat_minor": 1
}
