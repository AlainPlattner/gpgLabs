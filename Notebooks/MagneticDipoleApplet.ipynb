{
 "cells": [
  {
   "cell_type": "markdown",
   "metadata": {},
   "source": [
    "This is the <a href=\"https://jupyter.org/\">Jupyter Notebook</a>, an interactive coding and computation environment. For this lab, you do not have to write any code, you will only be running it. \n",
    "\n",
    "To use the notebook:\n",
    "- \"Shift + Enter\" runs the code within the cell (so does the forward arrow button near the top of the document)\n",
    "- You can alter variables and re-run cells\n",
    "- If you want to start with a clean slate, restart the Kernel either by going to the top, clicking on Kernel: Restart, or by \"esc + 00\" (if you do this, you will need to re-run the following block of code before running any other cells in the notebook) "
   ]
  },
  {
   "cell_type": "code",
   "execution_count": 6,
   "metadata": {},
   "outputs": [],
   "source": [
    "from gpgLabs.Mag.MagDipoleApp import MagneticDipoleApp"
   ]
  },
  {
   "cell_type": "markdown",
   "metadata": {},
   "source": [
    "# Magnetic Dipole Applet\n",
    "\n"
   ]
  },
  {
   "cell_type": "markdown",
   "metadata": {},
   "source": [
    "## Purpose\n",
    "\n",
    "The objective is to learn about the magnetic field observed at the ground's surface, caused by a small buried dipolar magnet. In geophysics, this simulates the observed anomaly over a buried susceptible sphere that is magnetized by the Earth's magnetic field.\n",
    "\n",
    "## What is shown\n",
    "\n",
    "- <b>The colour map</b> shows the strength of the chosen parameter (Bt, Bg, Bx, By, or Bz) as a function of position.\n",
    "\n",
    "- Imagine doing a two dimensional survey over a susceptible sphere that has been magentized by the Earth's magnetic field specified by inclination and declination.  \"Measurement\" location is the centre of each coloured box. This is a simple (but easily programmable) alternative to generating a smooth contour map.\n",
    "\n",
    "- The anomaly depends upon magnetic latitude, direction of the inducing (Earth's) field, the depth of the buried dipole, and the magnetic moment of the buried dipole.\n",
    "- You can generate a <b>profile</b> along either \"East\" or \"North\" direction\n",
    "- Click on the anomaly profile to see the width of the anomaly at the point you have clicked. Anomaly width is noted on the graph by small blue marks on the axis, and a number (in metres).\n",
    "\n",
    "## Important Notes:\n",
    "\n",
    "- <b>Inclination (I)</b> and <b>declination (D)</b> describe the orientation of the Earth's ambient field at the centre of the survey area. Positive inclination implies you are in the northern hemisphere, and positive declination implies that magnetic north is to the east of geographic north.\n",
    "\n",
    "- The <b>\"length\"</b> adjuster changes the size of the square survey area. The default of 72 means the survey square is 72 metres on a side.\n",
    "\n",
    "- The <b>\"data spacing\"</b> adjuster changes the distance between measurements. The default of 1 means measurements were acquired over the survey square on a 2-metre grid. In other words, \"data spacing = 2\" means each coloured box is 2 m square.\n",
    "\n",
    "- The <b>\"depth\"</b> adjuster changes the depth (in metres) to the centre of the buried dipole.\n",
    "\n",
    "- The <b>\"magnetic moment (M)\"</b> adjuster changes the strength of the induced field. Units are Am2.  This is related to the strength of the inducing field, the susceptibility of the buried sphere, and the volume of susceptible material.\n",
    "- <b>Bt, Bg, Bx, By, Bz</b> are Total field, X-component (positive northwards), Y-component (positive eastwards), and Z-component (positive down) of the anomaly field respectively.\n",
    "\n",
    "- Clicking the <b>refresh</b> colours button changes the colour scale so that the end points of the colour scale are minimum and maximum values for the current data set.\n",
    "\n",
    "- Measurements are taken 1m above the surface.\n",
    "\n",
    "- For gradient data, measurements are taken at 1m and 2m"
   ]
  },
  {
   "cell_type": "code",
   "execution_count": 8,
   "metadata": {},
   "outputs": [
    {
     "data": {
      "application/vnd.jupyter.widget-view+json": {
       "model_id": "5ec95b855b644b0c8f9649a5357310a8",
       "version_major": 2,
       "version_minor": 0
      },
      "text/html": [
       "<p>Failed to display Jupyter Widget of type <code>HBox</code>.</p>\n",
       "<p>\n",
       "  If you're reading this message in the Jupyter Notebook or JupyterLab Notebook, it may mean\n",
       "  that the widgets JavaScript is still loading. If this message persists, it\n",
       "  likely means that the widgets JavaScript library is either not installed or\n",
       "  not enabled. See the <a href=\"https://ipywidgets.readthedocs.io/en/stable/user_install.html\">Jupyter\n",
       "  Widgets Documentation</a> for setup instructions.\n",
       "</p>\n",
       "<p>\n",
       "  If you're reading this message in another frontend (for example, a static\n",
       "  rendering on GitHub or <a href=\"https://nbviewer.jupyter.org/\">NBViewer</a>),\n",
       "  it may mean that your frontend doesn't currently support widgets.\n",
       "</p>\n"
      ],
      "text/plain": [
       "HBox(children=(VBox(children=(RadioButtons(description='field', options=('Bt', 'Bg', 'Bx', 'By', 'Bz'), value='Bt'), RadioButtons(description='profile', index=1, options=('East', 'North'), value='North')), layout=Layout(height='350px', margin='60px 0px 0px 0px', width='20%')), Output(), VBox(children=(RadioButtons(description='target', options=('Dipole', 'Monopole'), value='Dipole'), FloatSlider(value=0.0, continuous_update=False, description='I', max=180.0, step=1.0), FloatSlider(value=0.0, continuous_update=False, description='D', max=180.0, step=1.0), FloatSlider(value=72.0, continuous_update=False, description='length', max=200.0, min=50.0, step=1.0), FloatSlider(value=2.0, continuous_update=False, description='data spacing', max=15.0, min=1.0, step=1.0), FloatSlider(value=30.0, continuous_update=False, description='M', min=1.0, step=1.0), FloatSlider(value=10.0, continuous_update=False, description='depth', max=50.0, min=1.0, step=1.0), ToggleButton(value=False, description='refresh', icon='check', tooltip='Description')), layout=Layout(height='350px', margin='20px 0px 0px 0px', width='50%'))))"
      ]
     },
     "metadata": {},
     "output_type": "display_data"
    }
   ],
   "source": [
    "mag = MagneticDipoleApp()\n",
    "mag.interact_plot_model()"
   ]
  }
 ],
 "metadata": {
  "kernelspec": {
   "display_name": "Python [conda env:simpeg]",
   "language": "python",
   "name": "conda-env-simpeg-py"
  },
  "language_info": {
   "codemirror_mode": {
    "name": "ipython",
    "version": 3
   },
   "file_extension": ".py",
   "mimetype": "text/x-python",
   "name": "python",
   "nbconvert_exporter": "python",
   "pygments_lexer": "ipython3",
   "version": "3.6.4"
  }
 },
 "nbformat": 4,
 "nbformat_minor": 2
}
