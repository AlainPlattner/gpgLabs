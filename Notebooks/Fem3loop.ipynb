{
 "cells": [
  {
   "cell_type": "markdown",
   "metadata": {},
   "source": [
    "# Lab 8: Electromagnetics Part I\n",
    "\n",
    "In the first part of this notebook, we consider a 3 loop system, consisting of a transmitter loop, receiver loop, and target loop. \n",
    "\n",
    "<img src=\"https://github.com/geoscixyz/gpgLabs/blob/OrganizeNotebooks/figures/EM/FEM3Loop/SurveyParams.png?raw=true\" style=\"width: 60%; height: 60%\"> </img>\n",
    "\n",
    "\n",
    "## Import Necessary Packages"
   ]
  },
  {
   "cell_type": "code",
   "execution_count": 4,
   "metadata": {},
   "outputs": [],
   "source": [
    "%matplotlib inline\n",
    "from gpgLabs.EM.FEM3loop import *\n",
    "from gpgLabs.EM.FEMpipe import *"
   ]
  },
  {
   "cell_type": "markdown",
   "metadata": {},
   "source": [
    "\n",
    "Your Default Parameters should be: \n",
    "\n",
    "<table>\n",
    "<tr>\n",
    "<th>Parameter </th>\n",
    "<th>Default value</th>\n",
    "</tr>\n",
    "<tr>\n",
    "<td>Inductance:</td>\n",
    "<td>L = 0.1</td>\n",
    "</tr>\n",
    "<tr>\n",
    "<td>Resistance:</td>\n",
    "<td>R = 2000</td>\n",
    "</tr>\n",
    "<tr>\n",
    "<td>X-center of target loop:</td>\n",
    "<td>xc = 0</td>\n",
    "</tr>\n",
    "<tr>\n",
    "<td>Y-center of target loop:</td>\n",
    "<td>yc = 0</td>\n",
    "</tr>\n",
    "<tr>\n",
    "<td>Z-center of target loop:</td>\n",
    "<td>zc = 1</td>\n",
    "</tr>\n",
    "<tr>\n",
    "<td>Inclination of target loop:</td>\n",
    "<td>dincl = 0</td>\n",
    "</tr>\n",
    "<tr>\n",
    "<td>Declination of target loop:</td>\n",
    "<td>ddecl = 90</td>\n",
    "</tr>\n",
    "<tr>\n",
    "<td>Frequency:</td>\n",
    "<td>f = 10000 </td>\n",
    "</tr>\n",
    "<tr>\n",
    "<td>Sample spacing:</td>\n",
    "<td>dx = 0.25 </td>\n",
    "</tr>\n",
    "</table>\n",
    "\n",
    "To use the default parameters below, either click the box for \"default\" or adjust the sliders for R, zc, and dx. When answering the lab questions, make sure all the sliders are where they should be!"
   ]
  },
  {
   "cell_type": "markdown",
   "metadata": {},
   "source": [
    "## Run FEM3loop Widget"
   ]
  },
  {
   "cell_type": "code",
   "execution_count": 5,
   "metadata": {
    "scrolled": true
   },
   "outputs": [
    {
     "data": {
      "application/vnd.jupyter.widget-view+json": {
       "model_id": "5c17a3b9e0524264b2384309a69f1b68"
      }
     },
     "metadata": {},
     "output_type": "display_data"
    },
    {
     "data": {
      "image/png": "[encoded data removed]",
      "text/plain": [
       "<matplotlib.figure.Figure at 0xa37c160>"
      ]
     },
     "metadata": {},
     "output_type": "display_data"
    }
   ],
   "source": [
    "fem3loop = interactfem3loop()\n",
    "fem3loop"
   ]
  },
  {
   "cell_type": "markdown",
   "metadata": {},
   "source": [
    "# Pipe Widget\n",
    "\n",
    "In the following app, we consider a loop-loop system with a pipe taget. Here, we simulate two surveys, one where the boom is oriented East-West (EW) and one where the boom is oriented North-South (NS). \n",
    "\n",
    "<img src=\"https://github.com/geoscixyz/gpgLabs/blob/OrganizeNotebooks/figures/EM/FEM3Loop/model.png?raw=true\" style=\"width: 40%; height: 40%\"> </img>\n",
    "\n",
    "The variables are:\n",
    "\n",
    "- alpha: \n",
    "$$\\alpha = \\frac{\\omega L}{R} = \\frac{2\\pi f L}{R}$$\n",
    "- pipedepth: Depth of the pipe center\n",
    "\n",
    "We plot the percentage of Hp/Hs ratio in the Widget. "
   ]
  },
  {
   "cell_type": "code",
   "execution_count": 7,
   "metadata": {},
   "outputs": [
    {
     "data": {
      "application/vnd.jupyter.widget-view+json": {
       "model_id": "fe76d7b5ad6d489fb72d93b542b4045e"
      }
     },
     "metadata": {},
     "output_type": "display_data"
    }
   ],
   "source": [
    "pipe = interact_femPipe()\n",
    "pipe"
   ]
  },
  {
   "cell_type": "code",
   "execution_count": null,
   "metadata": {
    "collapsed": true
   },
   "outputs": [],
   "source": []
  }
 ],
 "metadata": {
  "anaconda-cloud": {},
  "kernelspec": {
   "display_name": "Python [default]",
   "language": "python",
   "name": "python2"
  },
  "language_info": {
   "codemirror_mode": {
    "name": "ipython",
    "version": 2
   },
   "file_extension": ".py",
   "mimetype": "text/x-python",
   "name": "python",
   "nbconvert_exporter": "python",
   "pygments_lexer": "ipython2",
   "version": "2.7.13"
  }
 },
 "nbformat": 4,
 "nbformat_minor": 1
}
