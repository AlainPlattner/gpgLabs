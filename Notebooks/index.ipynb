{
 "cells": [
  {
   "cell_type": "markdown",
   "metadata": {},
   "source": [
    "# GPG Labs\n",
    "\n",
    "<a href=\"http://gpg.geosci.xyz\"><img src=\"http://gpg.geosci.xyz/_images/intro.png\" alt=\"http://gpg.geosci.xyz\" align=\"right\" width=\"200\"></a>\n",
    "\n",
    "This collection of notebooks covers basic principles of applied geophysics. Associated material can be found in the <a href=\"http://gpg.geosci.xyz\">GPG: Geophysics for Practicing Geoscientists</a>.\n",
    "\n",
    "\n",
    "\n",
    "If you have feedback, we would like to hear from you! \n",
    "- <a href=\"http://geosci.xyz/contact\">Contact us</a>\n",
    "- <a href=\"https://github.com/ubcgif/gpgLabs/issues\">Report issues</a>\n",
    "- <a href=\"https://github.com/ubcgif/gpgLabs/\">Join the development</a>"
   ]
  },
  {
   "cell_type": "markdown",
   "metadata": {},
   "source": [
    "## Contents\n",
    "\n",
    "### Magnetics\n",
    "- <a href=\"MagneticDipoleApplet.ipynb\">MagneticDipoleApplet.ipynb</a> - Magnetic dipole applet\n",
    "- <a href=\"MagneticPrismApplet.ipynb\">MagneticPrismApplet.ipynb</a> - Magnetic prism applet\n",
    "- <a href=\"Mag_Induced2D.ipynb\">Mag_Induced2D.ipynb</a> - induced magnetic anomaly demo\n",
    "- <a href=\"Mag_FitProfile.ipynb\">Mag_FitProfile.ipynb</a> - fit one magnetic profile from field observation\n",
    "\n",
    "### Seismic\n",
    "- <a href=\"Seis_Refraction.ipynb\">Seis_Refraction.ipynb</a> - seismic refraction survey demo\n",
    "- <a href=\"Seis_Reflection.ipynb\">Seis_Reflection.ipynb</a> - synthetic reflection seismogram\n",
    "- <a href=\"Seis_NMO.ipynb\">Seis_NMO.ipynb</a> - normal moveout demo\n",
    "- <a href=\"Seis_VerticalResolution.ipynb\">Seis_VerticalResolution.ipynb</a> - vertical resolution in reflection\n",
    "\n",
    "### Ground Penetrating Radar\n",
    "- <a href=\"GPR_Attenuation.ipynb\">GPR_Attenuation.ipynb</a> - EM attenuation in GPR\n",
    "- <a href=\"GPR_FitData.ipynb\">GPR_FitData.ipynb</a> - fit field data\n",
    "\n",
    "### Electromagnetics\n",
    "- <a href=\"EM_ThreeLoopModel.ipynb\">EM_ThreeLoopModel.ipynb</a> - EM induction explained by a 3-loop circuit model\n",
    "- <a href=\"EM_Pipeline.ipynb\">EM_Pipeline.ipynb</a> - EM response over a pipeline\n",
    "- <a href=\"EM_EM31.ipynb\">EM_ResponseFunction.ipynb</a> - EM-31 response and apparent conductivity\n",
    "\n",
    "### Direct Current Resistivity\n",
    "- <a href=\"DC_SurveyDataInversion.ipynb\">DC_SurveyDataInversion.ipynb</a> - physics, survey, data and interpretation"
   ]
  },
  {
   "cell_type": "markdown",
   "metadata": {},
   "source": [
    "<center><a rel=\"license\" href=\"http://creativecommons.org/licenses/by/4.0/\"><img alt=\"Creative Commons License\" style=\"border-width:0\" width=60 src=\"https://i.creativecommons.org/l/by/4.0/88x31.png\" /></a> \n",
    "\n",
    "This work is licensed under a <a rel=\"license\" href=\"http://creativecommons.org/licenses/by/4.0/\">Creative Commons Attribution 4.0 International License</a>.</center>"
   ]
  }
 ],
 "metadata": {
  "anaconda-cloud": {},
  "kernelspec": {
   "display_name": "Python 3",
   "language": "python",
   "name": "python3"
  },
  "language_info": {
   "codemirror_mode": {
    "name": "ipython",
    "version": 3
   },
   "file_extension": ".py",
   "mimetype": "text/x-python",
   "name": "python",
   "nbconvert_exporter": "python",
   "pygments_lexer": "ipython3",
   "version": "3.6.5"
  }
 },
 "nbformat": 4,
 "nbformat_minor": 1
}
