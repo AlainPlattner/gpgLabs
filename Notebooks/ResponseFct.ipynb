{
 "cells": [
  {
   "cell_type": "code",
   "execution_count": 1,
   "metadata": {
    "collapsed": true
   },
   "outputs": [],
   "source": [
    "from gpgLabs.EM.ResponseFct import *\n",
    "%matplotlib inline"
   ]
  },
  {
   "cell_type": "markdown",
   "metadata": {},
   "source": [
    "# Computing Apparent Resistivity\n",
    "\n",
    "In this app, we compute apparent resistivity using the response curves for a two-loop Frequency domain system for a two-layer earth. \n",
    "\n",
    "<img src=\"https://github.com/geoscixyz/gpgLabs/blob/OrganizeNotebooks/figures/EM/ResponseFct/ResponseFct.png?raw=true\" , width=40%> </img>\n",
    "\n",
    "Assuming the coil spacing $s \\ll \\delta$, where $\\delta$ is the skin depth, the apparent conductivity is given by\n",
    "\n",
    "$$\n",
    "\\sigma_a = \\int_0^\\infty \\phi(z) \\sigma(z) dz\n",
    "$$\n",
    "\n",
    "Where \n",
    " - $\\sigma_a$ is the apparent conductivity\n",
    " - $\\phi$ is the response function\n",
    " - $\\sigma$ is the conductivity structure\n",
    "\n",
    "Note that in the following plots, the y-axis is a normalized depth: $z/s$ where $s$ is the TX-RX separation.  \n",
    "\n",
    "For more, see the <a href=\"http://gpg.geosci.xyz/en/latest/content/electromagnetics/dual_loop_systems.html\">GPG section on dual loop systems</a>"
   ]
  },
  {
   "cell_type": "code",
   "execution_count": 2,
   "metadata": {},
   "outputs": [
    {
     "data": {
      "application/vnd.jupyter.widget-view+json": {
       "model_id": "ad087382ea274da1b2ba2e60983bffba"
      }
     },
     "metadata": {},
     "output_type": "display_data"
    }
   ],
   "source": [
    "app = interactive_responseFct()\n",
    "app"
   ]
  },
  {
   "cell_type": "code",
   "execution_count": null,
   "metadata": {
    "collapsed": true
   },
   "outputs": [],
   "source": []
  }
 ],
 "metadata": {
  "kernelspec": {
   "display_name": "Python [default]",
   "language": "python",
   "name": "python2"
  },
  "language_info": {
   "codemirror_mode": {
    "name": "ipython",
    "version": 2
   },
   "file_extension": ".py",
   "mimetype": "text/x-python",
   "name": "python",
   "nbconvert_exporter": "python",
   "pygments_lexer": "ipython2",
   "version": "2.7.13"
  }
 },
 "nbformat": 4,
 "nbformat_minor": 1
}
