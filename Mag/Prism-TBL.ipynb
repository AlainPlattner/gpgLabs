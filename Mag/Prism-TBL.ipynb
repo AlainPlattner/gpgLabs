{
 "cells": [
  {
   "cell_type": "markdown",
   "metadata": {},
   "source": [
    "This notebook uses code adapted from \n",
    "\n",
    "Fatiando \n",
    "- Uieda, L, Oliveira Jr, V C, Ferreira, A, Santos, H B; Caparica Jr, J F (2014), Fatiando a Terra: a Python package for modeling and inversion in geophysics. figshare. doi:10.6084/m9.figshare.1115194\n",
    "\n",
    "SimPEG\n",
    "- Cockett, R., S. Kang, L.J. Heagy, A. Pidlisecky, D.W. Oldenburg (2015, in review), SimPEG: An open source framework for simulation and gradient based parameter estimation in geophysical applications. Computers and Geosciences"
   ]
  },
  {
   "cell_type": "code",
   "execution_count": 24,
   "metadata": {
    "collapsed": false
   },
   "outputs": [],
   "source": [
    "# %%file importMag.py\n",
    "# import numpy as np\n",
    "# import matplotlib.pyplot as plt\n",
    "# from mpl_toolkits.mplot3d import Axes3D\n",
    "# from mpl_toolkits.mplot3d.art3d import Poly3DCollection\n",
    "\n",
    "# import warnings\n",
    "# warnings.filterwarnings('ignore') # ignore warnings: only use this once you are sure things are working\n",
    "\n",
    "# from IPython.html.widgets import *\n",
    "# from fromFatiando import *\n",
    "# from fromSimPEG import *\n",
    "# from scipy.constants import mu_0\n",
    "\n",
    "from importMag import *\n"
   ]
  },
  {
   "cell_type": "code",
   "execution_count": 2,
   "metadata": {
    "collapsed": false
   },
   "outputs": [],
   "source": [
    "%matplotlib inline"
   ]
  },
  {
   "cell_type": "code",
   "execution_count": 3,
   "metadata": {
    "collapsed": false
   },
   "outputs": [],
   "source": [
    "def definePrism(dx, dy, dz, depth, susc = 1., x0=0.,y0=0., pinc=0., pdec=0., Einc=90., Edec=0., Bigrf=1e3, Q = 0., rinc = 0., rdec = 0.):\n",
    "    \"\"\"\n",
    "        wrapper on fatiando prism construction\n",
    "        \n",
    "        Prism geometry:\n",
    "            - dx, dy, dz: width, length and height of prism\n",
    "            - depth : depth to top of prism\n",
    "            - susc : susceptibility of prism\n",
    "            - x0, y0 : center of prism in horizontal plane\n",
    "            - pinc, pdec : inclination and declination of prism\n",
    "        \n",
    "        Earth's field:\n",
    "            - Einc, Edec : inclination and declination of Earth's magnetic field\n",
    "            - Bigrf : amplitude of earth's field in units of nT\n",
    "        \n",
    "        Remnance:\n",
    "            - Q : Koenigsberger ratio\n",
    "            - Rinc, Rdec : inclination and declination of remnance in block \n",
    "        \n",
    "    \"\"\"\n",
    "    Higrf = Bigrf * 1e-9 / mu_0\n",
    "\n",
    "    x1, x2 = -dx/2. - x0, dx/2. - x0\n",
    "    y1, y2 = -dy/2. - y0, dy/2. - y0\n",
    "    z1, z2 = depth, depth + dz\n",
    "    Mind = susc*Higrf\n",
    "    rMag = Q*Mind\n",
    "    \n",
    "    # This is a bit of a hack: I am putting all of the parameters we will need later in the 'property' dictionary \n",
    "    return fatiandoGridMesh.Prism(x1, x2, y1, y2, z1, z2,{'magnetization': fatiandoUtils.ang2vec(rMag, rinc-pinc, rdec-pdec),'pinc':pinc,'pdec':pdec,'rinc':rinc,'rdec':rdec,'depth':depth,'Einc':Einc,'Edec':Edec,'Mind':Mind})"
   ]
  },
  {
   "cell_type": "code",
   "execution_count": 4,
   "metadata": {
    "collapsed": false
   },
   "outputs": [],
   "source": [
    "# define the survey area\n",
    "nx, ny = 100,100\n",
    "surveyArea = (-20., 20., -20., 20.)\n",
    "z = 0. \n",
    "shape = (nx,ny)\n",
    "xp, yp, zp = fatiandoGridMesh.regular(surveyArea,shape, z=z)"
   ]
  },
  {
   "cell_type": "code",
   "execution_count": 5,
   "metadata": {
    "collapsed": false,
    "scrolled": true
   },
   "outputs": [],
   "source": [
    "def plotObj3D(p,elev,azim):\n",
    "    \n",
    "    depth = p.props['depth']\n",
    "    x1, x2 = p.x1, p.x2\n",
    "    y1, y2 = p.y1, p.y2\n",
    "    z1, z2 = p.z1, p.z2\n",
    "    pinc, pdec = p.props['pinc'], p.props['pdec']\n",
    "    \n",
    "    fig = plt.figure(figsize = (8,8))\n",
    "    ax = fig.add_subplot(111, projection='3d')\n",
    "    plt.rcParams.update({'font.size': 13})\n",
    "    \n",
    "    ax.set_xlim3d(surveyArea[:2])\n",
    "    ax.set_ylim3d(surveyArea[2:])\n",
    "    ax.set_zlim3d(depth+np.array(surveyArea[:2]))\n",
    "\n",
    "    xpatch = [x1,x1,x2,x2]\n",
    "    ypatch = [y1,y2,y2,y1]\n",
    "    zpatch = [z1,z1,z1,z1]\n",
    "    xyz = simpegCoordUtils.rotatePointsFromNormals(np.vstack([xpatch,ypatch,zpatch]).T, np.r_[1., 0., 0.],fatiandoUtils.ang2vec(1.,pinc,pdec),np.r_[(x1+x2)/2., (y1+y2)/2., (z1+z2)/2.])\n",
    "    ax.add_collection3d(Poly3DCollection([zip(xyz[:,0], xyz[:,1], xyz[:,2])]))\n",
    "    zpatch = [z2,z2,z2,z2]\n",
    "    xyz = simpegCoordUtils.rotatePointsFromNormals(np.vstack([xpatch,ypatch,zpatch]).T, np.r_[1., 0., 0.],fatiandoUtils.ang2vec(1.,pinc,pdec),np.r_[(x1+x2)/2., (y1+y2)/2., (z1+z2)/2.])\n",
    "    ax.add_collection3d(Poly3DCollection([zip(xyz[:,0], xyz[:,1], xyz[:,2])]))\n",
    "    \n",
    "    xpatch = [x1,x1,x1,x1]\n",
    "    ypatch = [y1,y2,y2,y1]\n",
    "    zpatch = [z1,z1,z2,z2]                                  \n",
    "    xyz = simpegCoordUtils.rotatePointsFromNormals(np.vstack([xpatch,ypatch,zpatch]).T, np.r_[1., 0., 0.],fatiandoUtils.ang2vec(1.,pinc,pdec),np.r_[(x1+x2)/2., (y1+y2)/2., (z1+z2)/2.])\n",
    "    ax.add_collection3d(Poly3DCollection([zip(xyz[:,0], xyz[:,1], xyz[:,2])]))    \n",
    "    xpatch = [x2,x2,x2,x2]                                 \n",
    "    xyz = simpegCoordUtils.rotatePointsFromNormals(np.vstack([xpatch,ypatch,zpatch]).T, np.r_[1., 0., 0.],fatiandoUtils.ang2vec(1.,pinc,pdec),np.r_[(x1+x2)/2., (y1+y2)/2., (z1+z2)/2.])\n",
    "    ax.add_collection3d(Poly3DCollection([zip(xyz[:,0], xyz[:,1], xyz[:,2])])) \n",
    "    \n",
    "    xpatch = [x1,x2,x2,x1]\n",
    "    ypatch = [y1,y1,y1,y1]\n",
    "    zpatch = [z1,z1,z2,z2]                                  \n",
    "    xyz = simpegCoordUtils.rotatePointsFromNormals(np.vstack([xpatch,ypatch,zpatch]).T, np.r_[1., 0., 0.],fatiandoUtils.ang2vec(1.,pinc,pdec),np.r_[(x1+x2)/2., (y1+y2)/2., (z1+z2)/2.])\n",
    "    ax.add_collection3d(Poly3DCollection([zip(xyz[:,0], xyz[:,1], xyz[:,2])]))   \n",
    "    ypatch = [y2,y2,y2,y2]                                 \n",
    "    xyz = simpegCoordUtils.rotatePointsFromNormals(np.vstack([xpatch,ypatch,zpatch]).T, np.r_[1., 0., 0.],fatiandoUtils.ang2vec(1.,pinc,pdec),np.r_[(x1+x2)/2., (y1+y2)/2., (z1+z2)/2.])\n",
    "    ax.add_collection3d(Poly3DCollection([zip(xyz[:,0], xyz[:,1], xyz[:,2])])) \n",
    "    \n",
    "    ax.set_xlabel('Easting (m)')\n",
    "    ax.set_ylabel('Northing (m)')\n",
    "    ax.set_zlabel('Depth (m)')\n",
    "    ax.plot(xp,yp,z,'.g')\n",
    "\n",
    "    ax.view_init(elev,azim) \n",
    "# plt.show()\n",
    "\n",
    "# ax.plot_surface(x, y, z,  rstride=4, cstride=4, color='b')"
   ]
  },
  {
   "cell_type": "code",
   "execution_count": 6,
   "metadata": {
    "collapsed": false
   },
   "outputs": [
    {
     "data": {
      "text/plain": [
       "<function __main__.<lambda>>"
      ]
     },
     "execution_count": 6,
     "metadata": {},
     "output_type": "execute_result"
    },
    {
     "data": {
      "image/png": "[encoded data removed]",
      "text/plain": [
       "<matplotlib.figure.Figure at 0x106398b10>"
      ]
     },
     "metadata": {},
     "output_type": "display_data"
    }
   ],
   "source": [
    "p = definePrism(1., 1., 1., 3., susc = 1., Einc=90., Edec=0., Bigrf=1e-6, pinc=30., pdec=0.)\n",
    "\n",
    "interact(lambda elev, azim: plotObj3D(p,elev,azim),elev=(90.,270.,5.),azim=(-180.,180.,5.))"
   ]
  },
  {
   "cell_type": "code",
   "execution_count": 7,
   "metadata": {
    "collapsed": false
   },
   "outputs": [],
   "source": [
    "def getField(p,comp='tf',irt='induced'):\n",
    "    \n",
    "    pinc,pdec = p.props['pinc'], p.props['pdec']\n",
    "    Einc, Edec = p.props['Einc'], p.props['Edec']\n",
    "    rinc,rdec = p.props['rinc'], p.props['rdec']\n",
    "    Mind = p.props['Mind']\n",
    "    \n",
    "    x1, x2 = p.x1, p.x2\n",
    "    y1, y2 = p.y1, p.y2\n",
    "    z1, z2 = p.z1, p.z2\n",
    "    \n",
    "    XYZ = np.vstack([xp,yp,zp]).T\n",
    "    XYZ = simpegCoordUtils.rotatePointsFromNormals(XYZ, fatiandoUtils.ang2vec(1., rinc, rdec), np.r_[1.,0.,0.], np.r_[(x1+x2)/2., (y1+y2)/2., (z1+z2)/2.] )\n",
    "\n",
    "    xp_eval, yp_eval, zp_eval = XYZ[:,0], XYZ[:,1], XYZ[:,2]\n",
    "\n",
    "    if irt is 'induced' or irt is 'total':\n",
    "        if comp is 'bx': fieldi = fatiandoMagPrism.bx(xp_eval,yp_eval,zp_eval,[p],fatiandoUtils.ang2vec(Mind, Einc-pinc, Edec-pdec))\n",
    "        if comp is 'by': fieldi = fatiandoMagPrism.by(xp_eval,yp_eval,zp_eval,[p],fatiandoUtils.ang2vec(Mind, Einc-pinc, Edec-pdec))\n",
    "        if comp is 'bz': fieldi = fatiandoMagPrism.bz(xp_eval,yp_eval,zp_eval,[p],fatiandoUtils.ang2vec(Mind, Einc-pinc, Edec-pdec))\n",
    "        if comp is 'tf': fieldi = fatiandoMagPrism.tf(xp_eval,yp_eval,zp_eval,[p],Einc-pinc,Edec-pdec,fatiandoUtils.ang2vec(Mind, Einc-pinc, Edec-pdec))\n",
    "            \n",
    "    if irt is 'remnant' or irt is 'total':\n",
    "        if comp is 'bx': fieldr = fatiandoMagPrism.bx(xp_eval,yp_eval,zp_eval,[p])\n",
    "        elif comp is 'by': fieldr = fatiandoMagPrism.by(xp_eval,yp_eval,zp_eval,[p])\n",
    "        elif comp is 'bz': fieldr = fatiandoMagPrism.bz(xp_eval,yp_eval,zp_eval,zp,[p])\n",
    "        elif comp is 'tf': fieldr = fatiandoMagPrism.tf(xp_eval,yp_eval,zp_eval,[p],Einc-Binc,Edec-Bdec)\n",
    "        \n",
    "    if irt is 'induced':\n",
    "        return fieldi\n",
    "    elif irt is 'remnant':\n",
    "        return fieldr\n",
    "    elif irt is 'total':\n",
    "        return fieldi + fieldr"
   ]
  },
  {
   "cell_type": "code",
   "execution_count": 8,
   "metadata": {
    "collapsed": false
   },
   "outputs": [],
   "source": [
    "def plotMag(p, comp='tf'):\n",
    "    fig,ax = plt.subplots(1,2, figsize = (9, 4))\n",
    "    plt.rcParams.update({'font.size': 13})\n",
    "\n",
    "    fieldi = getField(p,comp,'induced')\n",
    "#     fieldr = getField(p,comp,'remnant')\n",
    "#     fieldt = fieldi + fieldr\n",
    "    fig.canvas.draw()\n",
    "    im = ax[0].pcolor(xp.reshape(shape),yp.reshape(shape),fieldi.reshape(shape))\n",
    "    ax[0].axis('equal')\n",
    "    # ax[0].axis('tight')\n",
    "\n",
    "    ax[0].set_xlabel('Easting (m)')\n",
    "    ax[0].set_ylabel('Northing (m)')\n",
    "    fig.colorbar(im,ax=ax[0],label=comp+' (nT)')\n",
    "\n",
    "    plotDataPoints = False\n",
    "    if plotDataPoints:\n",
    "        ax[0].plot(xp,yp,'.',color='k')\n",
    "\n",
    "    # plot a line of data\n",
    "    xline = 0.\n",
    "    xvec = xp.reshape(shape)[:,0]\n",
    "    ind = np.min(np.nonzero(abs(xvec - xline) == abs(xvec - xline).min()))\n",
    "    ax[0].plot(xp.reshape(shape)[ind,:],yp.reshape(shape)[ind,:],'k',linewidth=1.4)\n",
    "\n",
    "    ax[1].plot(yp.reshape(shape)[ind,:],fieldi.reshape(shape)[ind,:],'o-',markersize=4)\n",
    "#     ax[1].plot(yp.reshape(shape)[ind,:],fieldr.reshape(shape)[ind,:],'o-',markersize=4)\n",
    "#     ax[1].plot(yp.reshape(shape)[ind,:],fieldt.reshape(shape)[ind,:],'o-',markersize=4)\n",
    "\n",
    "    ax[1].grid(which='both')\n",
    "    ax[1].set_ylabel(comp +' (nT)')\n",
    "    ax[1].set_xlabel('Northing (m)')\n",
    "#     ax[1].legend(['induced','remanent','total'],loc='best')\n",
    "\n",
    "    plt.tight_layout()\n",
    "    \n",
    "#     return fig,ax"
   ]
  },
  {
   "cell_type": "code",
   "execution_count": 22,
   "metadata": {
    "collapsed": false
   },
   "outputs": [
    {
     "data": {
      "image/png": "[encoded data removed]",
      "text/plain": [
       "<matplotlib.figure.Figure at 0x10822fe10>"
      ]
     },
     "metadata": {},
     "output_type": "display_data"
    }
   ],
   "source": [
    "plotMagprsm = lambda dx, depth, susc, Einc, Edec, Bigrf: plotMag(definePrism(dx=dx, dy=dx, dz=100., depth = depth, susc = susc, Einc= Einc, Edec= Edec, Bigrf=Bigrf))\n",
    "interact(plotMagprsm, dx = (1e-2,1e0,1e-2), depth = (0.,20.,0.1), susc = (0.,200.,1.), Einc = (0.,180.,1.), Edec = (-180.,180.,1.) , Bigrf=FloatText(value=None))#,comp=['tf','bx','by','bz'] )"
   ]
  },
  {
   "cell_type": "code",
   "execution_count": 19,
   "metadata": {
    "collapsed": false
   },
   "outputs": [
    {
     "data": {
      "text/plain": [
       "<function __main__.<lambda>>"
      ]
     },
     "execution_count": 19,
     "metadata": {},
     "output_type": "execute_result"
    }
   ],
   "source": [
    "test"
   ]
  },
  {
   "cell_type": "code",
   "execution_count": 24,
   "metadata": {
    "collapsed": false
   },
   "outputs": [],
   "source": []
  },
  {
   "cell_type": "code",
   "execution_count": null,
   "metadata": {
    "collapsed": true
   },
   "outputs": [],
   "source": []
  }
 ],
 "metadata": {
  "kernelspec": {
   "display_name": "Python 2",
   "language": "python",
   "name": "python2"
  },
  "language_info": {
   "codemirror_mode": {
    "name": "ipython",
    "version": 2
   },
   "file_extension": ".py",
   "mimetype": "text/x-python",
   "name": "python",
   "nbconvert_exporter": "python",
   "pygments_lexer": "ipython2",
   "version": "2.7.10"
  }
 },
 "nbformat": 4,
 "nbformat_minor": 0
}
