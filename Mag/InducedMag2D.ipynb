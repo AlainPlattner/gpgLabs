{
 "cells": [
  {
   "cell_type": "markdown",
   "metadata": {},
   "source": [
    "This is the <a href=\"https://jupyter.org/\">Jupyter Notebook</a>, an interactive coding and computation environment. For this lab, you do not have to write any code, you will only be running it. \n",
    "\n",
    "To use the notebook:\n",
    "- \"Shift + Enter\" runs the code within the cell (so does the forward arrow button near the top of the document)\n",
    "- You can alter variables and re-run cells\n",
    "- If you want to start with a clean slate, restart the Kernel either by going to the top, clicking on Kernel: Restart, or by \"esc + 00\" (if you do this, you will need to re-run the following block of code before running any other cells in the notebook) "
   ]
  },
  {
   "cell_type": "code",
   "execution_count": null,
   "metadata": {
    "collapsed": false
   },
   "outputs": [],
   "source": [
    "from importMag import *\n",
    "from MagVector import *\n",
    "%matplotlib inline"
   ]
  },
  {
   "cell_type": "markdown",
   "metadata": {},
   "source": [
    "This notebook uses code adapted from \n",
    "\n",
    "Fatiando \n",
    "- Uieda, L, Oliveira Jr, V C, Ferreira, A, Santos, H B; Caparica Jr, J F (2014), Fatiando a Terra: a Python package for modeling and inversion in geophysics. figshare. doi:10.6084/m9.figshare.1115194\n",
    "\n",
    "SimPEG\n",
    "- Cockett, R., S. Kang, L.J. Heagy, A. Pidlisecky, D.W. Oldenburg (2015, in review), SimPEG: An open source framework for simulation and gradient based parameter estimation in geophysical applications. Computers and Geosciences"
   ]
  },
  {
   "cell_type": "markdown",
   "metadata": {},
   "source": [
    "# How do we define direction of an earth magnetic field?"
   ]
  },
  {
   "cell_type": "markdown",
   "metadata": {},
   "source": [
    "Earth magnetic field is a vector. To define a vector we need to choose a coordinate system. We use right-handed system: \n",
    "- X (Northing), \n",
    "- Y (Easting), and \n",
    "- Z (Down). \n",
    "\n",
    "Here we consider an earth magnetic field ($\\vec{B_0}$), of which intensity is one. To define this unit vector, we use inclinatino and declination:\n",
    "- Declination: An angle from geographic North (Ng) to Magnetic North (Nm) on N-E plane\n",
    "- Inclination: An angle from Nm to an Earth magnetic field"
   ]
  },
  {
   "cell_type": "markdown",
   "metadata": {},
   "source": [
    "<img src=\"./img/earthfield.png\" style=\"width: 80%; height: 80%\"> </img>"
   ]
  },
  {
   "cell_type": "markdown",
   "metadata": {},
   "source": [
    "# What's data?: total field anomaly"
   ]
  },
  {
   "cell_type": "markdown",
   "metadata": {},
   "source": [
    "We consider a typical form of magnetic data. To illustrate this we consider an suceptible object embedded in the earth. \n",
    "Based upon the earth magnetic field ($\\vec{B}_0$), this object will generate anomalous magnetic field ($\\vec{B}_A$). We define an unit vector $\\hat{B}_0$ for the earth field as \n",
    "$$ \\hat{B}_0 = \\frac{\\vec{B}_0}{|\\vec{B}_0|}$$ \n",
    "We measure both earth and anomalous magnetic field such that\n",
    "\n",
    "$$ \\vec{B} = \\vec{B}_0 + \\vec{B}_A$$\n",
    "\n",
    "Total field anomaly, $\\triangle \\vec{B}$ can be defined as\n",
    "\n",
    "$$  |\\triangle \\vec{B}| = |\\vec{B}|-|\\vec{B}_E| $$ \n",
    "\n",
    "If $|\\vec{B}|\\ll|\\vec{B}_E|$, then that is total field anomaly $\\triangle \\vec{B}$ is the projection of the anomalous field onto the direction of the earth field:\n",
    "\n",
    "$$ |\\triangle \\vec{B}| \\simeq \\vec{B}_A \\cdot \\hat{B}_0=|\\vec{B}_A|cos\\theta$$ "
   ]
  },
  {
   "cell_type": "markdown",
   "metadata": {},
   "source": [
    "<img src=\"./img/totalfieldanomaly.png\" style=\"width: 50%; height: 50%\"> </img>"
   ]
  },
  {
   "cell_type": "markdown",
   "metadata": {},
   "source": [
    "# Define a 3D prism"
   ]
  },
  {
   "cell_type": "markdown",
   "metadata": {},
   "source": [
    "Our model is a rectangular prism. Parameters to define this prism are given below:\n",
    "\n",
    "- dx: length in Northing (x) direction (meter)\n",
    "- dy: length in Easting (y) direction (meter)\n",
    "- dz: length in Depth (z) direction (meter) below the receiver\n",
    "- depth: top boundary of the prism (meter)\n",
    "- pinc: inclination of the prism (reference is a unit northing vector; degree)\n",
    "- pdec: declination of the prism (reference is a unit northing vector; degree)"
   ]
  },
  {
   "cell_type": "markdown",
   "metadata": {},
   "source": [
    "Green dots show a plane where we measure data. "
   ]
  },
  {
   "cell_type": "code",
   "execution_count": null,
   "metadata": {
    "collapsed": false
   },
   "outputs": [],
   "source": [
    "dx, dy, dz, depth = 0.08, 0.08, 100., 1.\n",
    "prism=ViewPrismSurvey(dx, dy, dz, depth)\n",
    "display(prism)"
   ]
  },
  {
   "cell_type": "markdown",
   "metadata": {},
   "source": [
    "# Magnetic applet"
   ]
  },
  {
   "cell_type": "markdown",
   "metadata": {},
   "source": [
    "Based on the prism that you made above, below Magnetic applet computes magnetic field at receiver locations, and provide both 2D map (left) and profile line (right). For the prism, there are two parameters that you can alter:\n",
    "- depth: top boundary of the prism\n",
    "- sus: susceptibility of the prism"
   ]
  },
  {
   "cell_type": "markdown",
   "metadata": {},
   "source": [
    "Parameters for the earth field are:\n",
    "- Einc: inclination of the earth field (degree)\n",
    "- Edec: declination of the earth field (degree)\n",
    "- Bigrf: intensity of the earth field (nT)"
   ]
  },
  {
   "cell_type": "markdown",
   "metadata": {},
   "source": [
    "A profile line is specified with five parameters:\n",
    "- x1, y1: northing and easting point for A (start)\n",
    "- x2, y2: northing and easting point for B (end)\n",
    "- npts: the number of points along the line"
   ]
  },
  {
   "cell_type": "markdown",
   "metadata": {},
   "source": [
    "The 2D interpolated map is ranging from -20 m to 20 m for both Northing and Easting directions. \n",
    "- npts2D: The number of points for each direction\n",
    "- rx_h: height of the receivers above surface\n",
    "- comp: types of the observed data \n",
    "\n",
    "For data, you can view:\n",
    "- tf: total field anomaly,  \n",
    "- bx :x-component, \n",
    "- by :y-component, \n",
    "- bz :z-component"
   ]
  },
  {
   "cell_type": "markdown",
   "metadata": {},
   "source": [
    "You can simulate and view remanent magnetization effect with parameters:\n",
    "- irt: \"induced\", \"remanent\", or \"total\"\n",
    "- Q: Koenigsberger ratio ($\\frac{M_{rem}}{M_{ind}}$)\n",
    "- rinc: inclination of the remanent magnetization (degree)\n",
    "- rdec: declination of the remanent magnetization (degree)\n"
   ]
  },
  {
   "cell_type": "code",
   "execution_count": null,
   "metadata": {
    "collapsed": false
   },
   "outputs": [],
   "source": [
    "display(ViewMagSurvey2DInd(prism))"
   ]
  }
 ],
 "metadata": {
  "kernelspec": {
   "display_name": "Python 2",
   "language": "python",
   "name": "python2"
  },
  "language_info": {
   "codemirror_mode": {
    "name": "ipython",
    "version": 2
   },
   "file_extension": ".py",
   "mimetype": "text/x-python",
   "name": "python",
   "nbconvert_exporter": "python",
   "pygments_lexer": "ipython2",
   "version": "2.7.10"
  }
 },
 "nbformat": 4,
 "nbformat_minor": 0
}
