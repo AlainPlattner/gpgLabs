{
 "cells": [
  {
   "cell_type": "markdown",
   "metadata": {
    "extensions": {
     "jupyter_dashboards": {
      "version": 1,
      "views": {
       "grid_default": {
        "col": 0,
        "height": 11,
        "hidden": false,
        "row": 0,
        "width": 12
       },
       "report_default": {}
      }
     }
    }
   },
   "source": [
    "This is the <a href=\"https://jupyter.org/\">Jupyter Notebook</a>, an interactive coding and computation environment. For this lab, you do not have to write any code, you will only be running it. \n",
    "\n",
    "To use the notebook:\n",
    "- \"Shift + Enter\" runs the code within the cell (so does the forward arrow button near the top of the document)\n",
    "- You can alter variables and re-run cells\n",
    "- If you want to start with a clean slate, restart the Kernel either by going to the top, clicking on Kernel: Restart, or by \"esc + 00\" (if you do this, you will need to re-run the following block of code before running any other cells in the notebook) \n",
    "\n",
    "This notebook uses code adapted from \n",
    "\n",
    "SimPEG\n",
    "- Cockett, R., S. Kang, L.J. Heagy, A. Pidlisecky, D.W. Oldenburg (2015, in review), SimPEG: An open source framework for simulation and gradient based parameter estimation in geophysical applications. Computers and Geosciences"
   ]
  },
  {
   "cell_type": "code",
   "execution_count": null,
   "metadata": {
    "collapsed": false,
    "extensions": {
     "jupyter_dashboards": {
      "version": 1,
      "views": {
       "grid_default": {
        "col": 0,
        "height": 3,
        "hidden": true,
        "row": 11,
        "width": 12
       },
       "report_default": {}
      }
     }
    }
   },
   "outputs": [],
   "source": [
    "from importMag import *\n",
    "\n",
    "%matplotlib inline"
   ]
  },
  {
   "cell_type": "markdown",
   "metadata": {
    "extensions": {
     "jupyter_dashboards": {
      "version": 1,
      "views": {
       "grid_default": {
        "col": 0,
        "height": 21,
        "hidden": false,
        "row": 51,
        "width": null
       },
       "report_default": {}
      }
     }
    }
   },
   "source": [
    "# How do we define direction of an earth magnetic field?\n",
    "\n",
    "Earth magnetic field is a vector. To define a vector we need to choose a coordinate system. We use right-handed system: \n",
    "- X (Easting), \n",
    "- Y (Northing), and \n",
    "- Z (Up). \n",
    "\n",
    "Here we consider an earth magnetic field ($\\vec{B_0}$), of which intensity is one. To define this unit vector, we use inclinatino and declination:\n",
    "- Declination: An angle from geographic North (Ng) (positive clockwise)\n",
    "- Inclination: Vertical angle from the N-E plane (positive down)\n",
    "\n",
    "<img src=\"./img/earthfield.png\" style=\"width: 80%; height: 80%\"> </img>"
   ]
  },
  {
   "cell_type": "markdown",
   "metadata": {
    "extensions": {
     "jupyter_dashboards": {
      "version": 1,
      "views": {
       "grid_default": {
        "col": 0,
        "height": 18,
        "hidden": false,
        "row": 72,
        "width": null
       },
       "report_default": {}
      }
     }
    }
   },
   "source": [
    "# What's data?: total field anomaly\n",
    "\n",
    "We consider a typical form of magnetic data. To illustrate this we consider an suceptible object embedded in the earth. \n",
    "Based upon the earth magnetic field ($\\vec{B}_0$), this object will generate anomalous magnetic field ($\\vec{B}_A$). We define an unit vector $\\hat{B}_0$ for the earth field as \n",
    "$$ \\hat{B}_0 = \\frac{\\vec{B}_0}{|\\vec{B}_0|}$$ \n",
    "We measure both earth and anomalous magnetic field such that\n",
    "\n",
    "$$ \\vec{B} = \\vec{B}_0 + \\vec{B}_A$$\n",
    "\n",
    "Total field anomaly, $\\triangle \\vec{B}$ can be defined as\n",
    "\n",
    "$$  |\\triangle \\vec{B}| = |\\vec{B}|-|\\vec{B}_E| $$ \n",
    "\n",
    "If $|\\vec{B}|\\ll|\\vec{B}_E|$, then that is total field anomaly $\\triangle \\vec{B}$ is the projection of the anomalous field onto the direction of the earth field:\n",
    "\n",
    "$$ |\\triangle \\vec{B}| \\simeq \\vec{B}_A \\cdot \\hat{B}_0=|\\vec{B}_A|cos\\theta$$ \n",
    "\n",
    "<img src=\"./img/totalfieldanomaly.png\" style=\"width: 50%; height: 50%\"> </img>"
   ]
  },
  {
   "cell_type": "markdown",
   "metadata": {
    "extensions": {
     "jupyter_dashboards": {
      "version": 1,
      "views": {
       "grid_default": {
        "col": 0,
        "height": 11,
        "hidden": false,
        "row": 11,
        "width": 6
       },
       "report_default": {}
      }
     }
    }
   },
   "source": [
    "# Define a 3D prism\n",
    "Our model is a rectangular prism. Parameters to define this prism are given below:\n",
    "\n",
    "- dx: length in Easting (x) direction (meter)\n",
    "- dy: length in Northing (y) direction (meter)\n",
    "- dz: length in Depth (z) direction (meter) below the receiver\n",
    "- depth: top boundary of the prism (meter)\n",
    "- pinc: inclination of the prism (reference is a unit northing vector; degree)\n",
    "- pdec: declination of the prism (reference is a unit northing vector; degree)\n",
    "\n",
    "You can also change the height of the survey grid above the ground\n",
    "- rx_h: height of the grid (meter)\n",
    "\n",
    "*Green dots show a plane where we measure data.*"
   ]
  },
  {
   "cell_type": "code",
   "execution_count": null,
   "metadata": {
    "collapsed": false
   },
   "outputs": [],
   "source": [
    "# Define the dimensions of the prism (m)\n",
    "dx, dy, dz = 1.4e-2, 3, 1.4e-2\n",
    "# Set the depth of burial (m)\n",
    "depth = 0.5\n",
    "\n",
    "# Define the problem interactively\n",
    "Box = Mag.ViewPrism(dx, dy, dz, depth)\n",
    "display(Box)\n"
   ]
  },
  {
   "cell_type": "markdown",
   "metadata": {
    "extensions": {
     "jupyter_dashboards": {
      "version": 1,
      "views": {
       "grid_default": {
        "col": 6,
        "height": 11,
        "hidden": false,
        "row": 11,
        "width": 6
       },
       "report_default": {}
      }
     }
    }
   },
   "source": [
    "# Magnetic applet\n",
    "Based on the prism that you made above, below Magnetic applet computes magnetic field at receiver locations, and provide both 2D map (left) and profile line (right). \n",
    "\n",
    "For the prism, you can alter:\n",
    "- sus: susceptibility of the prism\n",
    "\n",
    "Parameters for the earth field are:\n",
    "- Einc: inclination of the earth field (degree)\n",
    "- Edec: declination of the earth field (degree)\n",
    "- Bigrf: intensity of the earth field (nT)\n",
    "\n",
    "For data, you can view:\n",
    "- tf: total field anomaly,  \n",
    "- bx :x-component, \n",
    "- by :y-component, \n",
    "- bz :z-component\n",
    "\n",
    "You can simulate and view remanent magnetization effect with parameters:\n",
    "- irt: \"induced\", \"remanent\", or \"total\"\n",
    "- Q: Koenigsberger ratio ($\\frac{M_{rem}}{M_{ind}}$)\n",
    "- rinc: inclination of the remanent magnetization (degree)\n",
    "- rdec: declination of the remanent magnetization (degree)\n"
   ]
  },
  {
   "cell_type": "code",
   "execution_count": null,
   "metadata": {
    "collapsed": false,
    "extensions": {
     "jupyter_dashboards": {
      "version": 1,
      "views": {
       "grid_default": {
        "col": 6,
        "height": 29,
        "hidden": false,
        "row": 22,
        "width": 6
       },
       "report_default": {}
      }
     }
    },
    "scrolled": true
   },
   "outputs": [],
   "source": [
    "plotwidget = Mag.ViewMagSurvey2DInd(Box)\n",
    "display(plotwidget)\n"
   ]
  },
  {
   "cell_type": "code",
   "execution_count": null,
   "metadata": {
    "collapsed": true,
    "extensions": {
     "jupyter_dashboards": {
      "version": 1,
      "views": {
       "grid_default": {
        "hidden": true
       },
       "report_default": {}
      }
     }
    }
   },
   "outputs": [],
   "source": []
  },
  {
   "cell_type": "code",
   "execution_count": null,
   "metadata": {
    "collapsed": true
   },
   "outputs": [],
   "source": []
  }
 ],
 "metadata": {
  "anaconda-cloud": {},
  "extensions": {
   "jupyter_dashboards": {
    "activeView": "grid_default",
    "version": 1,
    "views": {
     "grid_default": {
      "cellMargin": 10,
      "defaultCellHeight": 20,
      "maxColumns": 12,
      "name": "grid",
      "type": "grid"
     },
     "report_default": {
      "name": "report",
      "type": "report"
     }
    }
   }
  },
  "kernelspec": {
   "display_name": "Python [default]",
   "language": "python",
   "name": "python2"
  },
  "language_info": {
   "codemirror_mode": {
    "name": "ipython",
    "version": 2
   },
   "file_extension": ".py",
   "mimetype": "text/x-python",
   "name": "python",
   "nbconvert_exporter": "python",
   "pygments_lexer": "ipython2",
   "version": "2.7.12"
  }
 },
 "nbformat": 4,
 "nbformat_minor": 0
}
