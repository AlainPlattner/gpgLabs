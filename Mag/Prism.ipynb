{
 "cells": [
  {
   "cell_type": "code",
   "execution_count": 8,
   "metadata": {
    "collapsed": false
   },
   "outputs": [],
   "source": [
    "# %%file importMag.py\n",
    "import numpy as np\n",
    "import matplotlib.pyplot as plt\n",
    "# import warnings\n",
    "# warnings.filterwarnings('ignore') # ignore warnings: only use this once you are sure things are working\n",
    "from IPython.html.widgets import *\n",
    "from fatiando import utils, mesher, gridder\n",
    "import fatiando.gravmag.prism as prism\n",
    "\n",
    "\n",
    "%matplotlib inline"
   ]
  },
  {
   "cell_type": "code",
   "execution_count": 9,
   "metadata": {
    "collapsed": false
   },
   "outputs": [],
   "source": [
    "x1, x2 = -5., 5.\n",
    "y1, y2 = -5., 5.\n",
    "z1, z2 = 5., 10.\n",
    "inc, dec = 0.,0.\n",
    "p = mesher.Prism(x1, x2, y1, y2, z1, z2,{'magnetization': utils.ang2vec(10, inc, dec)})"
   ]
  },
  {
   "cell_type": "code",
   "execution_count": 16,
   "metadata": {
    "collapsed": false
   },
   "outputs": [],
   "source": [
    "shape = (100,100)\n",
    "xp, yp, zp = gridder.regular((-100., 100, -100, 100),(100,100), z=0)"
   ]
  },
  {
   "cell_type": "code",
   "execution_count": 18,
   "metadata": {
    "collapsed": false
   },
   "outputs": [
    {
     "data": {
      "text/plain": [
       "array([[ 0.08950594,  0.09776882,  0.10656595, ...,  0.10656595,\n",
       "         0.09776882,  0.08950594],\n",
       "       [ 0.08678018,  0.09518878,  0.10416046, ...,  0.10416046,\n",
       "         0.09518878,  0.08678018],\n",
       "       [ 0.08368805,  0.09222876,  0.10136203, ...,  0.10136203,\n",
       "         0.09222876,  0.08368805],\n",
       "       ..., \n",
       "       [ 0.07639181,  0.08453923,  0.09325784, ...,  0.09325784,\n",
       "         0.08453923,  0.07639181],\n",
       "       [ 0.07969638,  0.08773104,  0.09630905, ...,  0.09630905,\n",
       "         0.08773104,  0.07969638],\n",
       "       [ 0.08263147,  0.09053896,  0.0989625 , ...,  0.0989625 ,\n",
       "         0.09053896,  0.08263147]])"
      ]
     },
     "execution_count": 18,
     "metadata": {},
     "output_type": "execute_result"
    }
   ],
   "source": [
    "tf = prism.tf(xp,yp,zp,[p],10.,0.)"
   ]
  },
  {
   "cell_type": "code",
   "execution_count": 21,
   "metadata": {
    "collapsed": false
   },
   "outputs": [
    {
     "data": {
      "text/plain": [
       "<matplotlib.colorbar.Colorbar instance at 0x107cec488>"
      ]
     },
     "execution_count": 21,
     "metadata": {},
     "output_type": "execute_result"
    },
    {
     "data": {
      "image/png": "[encoded data removed]",
      "text/plain": [
       "<matplotlib.figure.Figure at 0x107b86990>"
      ]
     },
     "metadata": {},
     "output_type": "display_data"
    }
   ],
   "source": [
    "plt.colorbar(plt.imshow(tf.reshape(shape)))"
   ]
  },
  {
   "cell_type": "code",
   "execution_count": 17,
   "metadata": {
    "collapsed": false
   },
   "outputs": [
    {
     "data": {
      "text/plain": [
       "(1,)"
      ]
     },
     "execution_count": 17,
     "metadata": {},
     "output_type": "execute_result"
    }
   ],
   "source": []
  },
  {
   "cell_type": "code",
   "execution_count": null,
   "metadata": {
    "collapsed": true
   },
   "outputs": [],
   "source": []
  }
 ],
 "metadata": {
  "kernelspec": {
   "display_name": "Python 2",
   "language": "python",
   "name": "python2"
  },
  "language_info": {
   "codemirror_mode": {
    "name": "ipython",
    "version": 2
   },
   "file_extension": ".py",
   "mimetype": "text/x-python",
   "name": "python",
   "nbconvert_exporter": "python",
   "pygments_lexer": "ipython2",
   "version": "2.7.10"
  }
 },
 "nbformat": 4,
 "nbformat_minor": 0
}
