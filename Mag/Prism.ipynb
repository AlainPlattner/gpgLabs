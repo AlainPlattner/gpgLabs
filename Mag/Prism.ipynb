{
 "cells": [
  {
   "cell_type": "code",
   "execution_count": 1,
   "metadata": {
    "collapsed": false
   },
   "outputs": [
    {
     "name": "stderr",
     "output_type": "stream",
     "text": [
      ":0: FutureWarning: IPython widgets are experimental and may change in the future.\n"
     ]
    }
   ],
   "source": [
    "# %%file importMag.py\n",
    "import numpy as np\n",
    "import matplotlib.pyplot as plt\n",
    "from mpl_toolkits.mplot3d import Axes3D\n",
    "from mpl_toolkits.mplot3d.art3d import Poly3DCollection\n",
    "# import warnings\n",
    "# warnings.filterwarnings('ignore') # ignore warnings: only use this once you are sure things are working\n",
    "from IPython.html.widgets import *\n",
    "from fatiando import utils, mesher, gridder\n",
    "import fatiando.gravmag.prism as prism\n",
    "from scipy.constants import mu_0\n",
    "\n",
    "from simpegEM.Utils import coordUtils "
   ]
  },
  {
   "cell_type": "code",
   "execution_count": 2,
   "metadata": {
    "collapsed": true
   },
   "outputs": [],
   "source": [
    "%matplotlib inline"
   ]
  },
  {
   "cell_type": "code",
   "execution_count": 66,
   "metadata": {
    "collapsed": false
   },
   "outputs": [],
   "source": [
    "Einc, Edec = 70.,17. # inclination and declination of earth's field in degrees\n",
    "Bigrf = 54448e-9\n",
    "Higrf = Bigrf / mu_0\n",
    "\n",
    "# define the size and orientation of the prism\n",
    "depth = 1. # depth of burial \n",
    "\n",
    "x1, x2 = -2.5, 2.5\n",
    "y1, y2 = -1, 1\n",
    "z1, z2 = -0.5+depth, 0.5+depth #-1e-2+depth, 1e-2+depth\n",
    "susc = 1.  \n",
    "Mind = susc*Higrf\n",
    "Binc, Bdec = 30., 0.\n",
    "\n",
    "Q = 0. #Koenigsberger ratio (Q), ratio of remenant to induced\n",
    "rMag = Q*Mind\n",
    "rinc, rdec = 45., 45.\n",
    "\n",
    "p = mesher.Prism(x1, x2, y1, y2, z1, z2,{'magnetization': utils.ang2vec(rMag, rinc-Binc, rdec-Bdec)})"
   ]
  },
  {
   "cell_type": "code",
   "execution_count": 67,
   "metadata": {
    "collapsed": false
   },
   "outputs": [],
   "source": [
    "# define the survey area\n",
    "nx, ny = 30,30\n",
    "surveyArea = (-5., 5., -5., 5.)\n",
    "z = 0. \n",
    "shape = (nx,ny)\n",
    "xp, yp, zp = gridder.regular(surveyArea,shape, z=z)\n",
    "\n",
    "XYZ = np.vstack([xp,yp,zp]).T\n",
    "XYZ = coordUtils.rotatePointsFromNormals(XYZ, utils.ang2vec(1., Binc, Bdec), np.r_[1.,0.,0.], np.r_[(x1+x2)/2., (y1+y2)/2., (z1+z2)/2.] )\n",
    "\n",
    "xp_eval, yp_eval, zp_eval = XYZ[:,0], XYZ[:,1], XYZ[:,2]"
   ]
  },
  {
   "cell_type": "code",
   "execution_count": null,
   "metadata": {
    "collapsed": false
   },
   "outputs": [],
   "source": []
  },
  {
   "cell_type": "code",
   "execution_count": 68,
   "metadata": {
    "collapsed": false
   },
   "outputs": [
    {
     "data": {
      "image/png": "[encoded data removed]",
      "text/plain": [
       "<matplotlib.figure.Figure at 0x7f05949c0510>"
      ]
     },
     "metadata": {},
     "output_type": "display_data"
    }
   ],
   "source": [
    "fig = plt.figure()\n",
    "ax = fig.add_subplot(111, projection='3d')\n",
    "plt.rcParams.update({'font.size': 13})\n",
    "\n",
    "ax.set_xlim3d(surveyArea[:2])\n",
    "ax.set_ylim3d(surveyArea[2:])\n",
    "ax.set_zlim3d(depth+np.array(surveyArea[:2]))\n",
    "\n",
    "x = [x1,x1,x2,x2]\n",
    "y = [y1,y2,y2,y1]\n",
    "z = [z1,z1,z1,z1]\n",
    "xyz = coordUtils.rotatePointsFromNormals(np.vstack([x,y,z]).T, np.r_[1., 0., 0.],utils.ang2vec(1.,Binc,Bdec),np.r_[(x1+x2)/2., (y1+y2)/2., (z1+z2)/2.])\n",
    "ax.add_collection3d(Poly3DCollection([zip(xyz[:,0], xyz[:,1], xyz[:,2])]))\n",
    "z = [z2,z2,z2,z2]\n",
    "xyz = coordUtils.rotatePointsFromNormals(np.vstack([x,y,z]).T, np.r_[1., 0., 0.],utils.ang2vec(1.,Binc,Bdec),np.r_[(x1+x2)/2., (y1+y2)/2., (z1+z2)/2.])\n",
    "ax.add_collection3d(Poly3DCollection([zip(xyz[:,0], xyz[:,1], xyz[:,2])]))\n",
    "x = [x1,x1,x1,x1]\n",
    "y = [y1,y2,y2,y1]\n",
    "z = [z1,z1,z2,z2]                                  \n",
    "xyz = coordUtils.rotatePointsFromNormals(np.vstack([x,y,z]).T, np.r_[1., 0., 0.],utils.ang2vec(1.,Binc,Bdec),np.r_[(x1+x2)/2., (y1+y2)/2., (z1+z2)/2.])\n",
    "ax.add_collection3d(Poly3DCollection([zip(xyz[:,0], xyz[:,1], xyz[:,2])]))    \n",
    "x = [x2,x2,x2,x2]                                 \n",
    "xyz = coordUtils.rotatePointsFromNormals(np.vstack([x,y,z]).T, np.r_[1., 0., 0.],utils.ang2vec(1.,Binc,Bdec),np.r_[(x1+x2)/2., (y1+y2)/2., (z1+z2)/2.])\n",
    "ax.add_collection3d(Poly3DCollection([zip(xyz[:,0], xyz[:,1], xyz[:,2])])) \n",
    "x = [x1,x2,x2,x1]\n",
    "y = [y1,y1,y1,y1]\n",
    "z = [z1,z1,z2,z2]                                  \n",
    "xyz = coordUtils.rotatePointsFromNormals(np.vstack([x,y,z]).T, np.r_[1., 0., 0.],utils.ang2vec(1.,Binc,Bdec),np.r_[(x1+x2)/2., (y1+y2)/2., (z1+z2)/2.])\n",
    "ax.add_collection3d(Poly3DCollection([zip(xyz[:,0], xyz[:,1], xyz[:,2])]))   \n",
    "y = [y2,y2,y2,y2]                                 \n",
    "xyz = coordUtils.rotatePointsFromNormals(np.vstack([x,y,z]).T, np.r_[1., 0., 0.],utils.ang2vec(1.,Binc,Bdec),np.r_[(x1+x2)/2., (y1+y2)/2., (z1+z2)/2.])\n",
    "ax.add_collection3d(Poly3DCollection([zip(xyz[:,0], xyz[:,1], xyz[:,2])])) \n",
    "\n",
    "ax.view_init(elev=200.,azim=10)\n",
    "# plt.show()\n",
    "\n",
    "# ax.plot_surface(x, y, z,  rstride=4, cstride=4, color='b')"
   ]
  },
  {
   "cell_type": "code",
   "execution_count": 55,
   "metadata": {
    "collapsed": false
   },
   "outputs": [
    {
     "data": {
      "text/plain": [
       "array([ 0.61237244,  0.61237244,  0.5       ])"
      ]
     },
     "execution_count": 55,
     "metadata": {},
     "output_type": "execute_result"
    }
   ],
   "source": [
    "utils.ang2vec(1.,Binc,Bdec)"
   ]
  },
  {
   "cell_type": "code",
   "execution_count": 60,
   "metadata": {
    "collapsed": false
   },
   "outputs": [
    {
     "data": {
      "text/plain": [
       "array([[-2.5, -1. ,  0.5],\n",
       "       [-2.5,  1. ,  0.5],\n",
       "       [ 2.5,  1. ,  0.5],\n",
       "       [ 2.5, -1. ,  0.5]])"
      ]
     },
     "execution_count": 60,
     "metadata": {},
     "output_type": "execute_result"
    }
   ],
   "source": [
    "np.vstack([x,y,z]).T"
   ]
  },
  {
   "cell_type": "code",
   "execution_count": 57,
   "metadata": {
    "collapsed": false
   },
   "outputs": [],
   "source": [
    "comp = 'tf'\n",
    "irt = 'induced'\n",
    "\n",
    "if comp is 'bx':\n",
    "    fieldi = prism.bx(xp_eval,yp_eval,zp_eval,[p],utils.ang2vec(Mind, Einc-Binc, Edec-Bdec))\n",
    "    fieldr = prism.bx(xp_eval,yp_eval,zp_eval,[p])\n",
    "elif comp is 'by':\n",
    "    fieldi = prism.by(xp_eval,yp_eval,zp_eval,[p],utils.ang2vec(Mind, Einc-Binc, Edec-Bdec))\n",
    "    fieldr = prism.by(xp_eval,yp_eval,zp_eval,[p])\n",
    "elif comp is 'bz':\n",
    "    fieldi = prism.bz(xp_eval,yp_eval,zp_eval,[p],utils.ang2vec(Mind, Einc-Binc, Edec-Bdec))\n",
    "    fieldr = prism.bz(xp_eval,yp_eval,zp_eval,zp,[p])\n",
    "elif comp is 'tf':\n",
    "    fieldi = prism.tf(xp_eval,yp_eval,zp_eval,[p],Einc-Binc,Edec-Bdec,utils.ang2vec(Mind, Einc-Binc, Edec-Bdec))\n",
    "    fieldr = prism.tf(xp_eval,yp_eval,zp_eval,[p],Einc-Binc,Edec-Bdec)\n",
    "\n",
    "fieldt = fieldi + fieldr\n",
    "\n",
    "if irt is 'induced':\n",
    "    field = fieldi\n",
    "elif irt is 'remnant':\n",
    "    field = fieldr\n",
    "elif irt is 'total':\n",
    "    field = fieldt"
   ]
  },
  {
   "cell_type": "code",
   "execution_count": 58,
   "metadata": {
    "collapsed": false
   },
   "outputs": [
    {
     "ename": "AttributeError",
     "evalue": "'list' object has no attribute 'reshape'",
     "output_type": "error",
     "traceback": [
      "\u001b[1;31m---------------------------------------------------------------------------\u001b[0m",
      "\u001b[1;31mAttributeError\u001b[0m                            Traceback (most recent call last)",
      "\u001b[1;32m<ipython-input-58-e90236ab3873>\u001b[0m in \u001b[0;36m<module>\u001b[1;34m()\u001b[0m\n\u001b[0;32m      3\u001b[0m \u001b[1;33m\u001b[0m\u001b[0m\n\u001b[0;32m      4\u001b[0m \u001b[1;31m# fig.canvas.draw()\u001b[0m\u001b[1;33m\u001b[0m\u001b[1;33m\u001b[0m\u001b[0m\n\u001b[1;32m----> 5\u001b[1;33m \u001b[0mim\u001b[0m \u001b[1;33m=\u001b[0m \u001b[0max\u001b[0m\u001b[1;33m[\u001b[0m\u001b[1;36m0\u001b[0m\u001b[1;33m]\u001b[0m\u001b[1;33m.\u001b[0m\u001b[0mpcolor\u001b[0m\u001b[1;33m(\u001b[0m\u001b[0mxp\u001b[0m\u001b[1;33m.\u001b[0m\u001b[0mreshape\u001b[0m\u001b[1;33m(\u001b[0m\u001b[0mshape\u001b[0m\u001b[1;33m)\u001b[0m\u001b[1;33m,\u001b[0m\u001b[0myp\u001b[0m\u001b[1;33m.\u001b[0m\u001b[0mreshape\u001b[0m\u001b[1;33m(\u001b[0m\u001b[0mshape\u001b[0m\u001b[1;33m)\u001b[0m\u001b[1;33m,\u001b[0m\u001b[0mfield\u001b[0m\u001b[1;33m.\u001b[0m\u001b[0mreshape\u001b[0m\u001b[1;33m(\u001b[0m\u001b[0mshape\u001b[0m\u001b[1;33m)\u001b[0m\u001b[1;33m)\u001b[0m\u001b[1;33m\u001b[0m\u001b[0m\n\u001b[0m\u001b[0;32m      6\u001b[0m \u001b[0max\u001b[0m\u001b[1;33m[\u001b[0m\u001b[1;36m0\u001b[0m\u001b[1;33m]\u001b[0m\u001b[1;33m.\u001b[0m\u001b[0maxis\u001b[0m\u001b[1;33m(\u001b[0m\u001b[1;34m'equal'\u001b[0m\u001b[1;33m)\u001b[0m\u001b[1;33m\u001b[0m\u001b[0m\n\u001b[0;32m      7\u001b[0m \u001b[1;31m# ax[0].axis('tight')\u001b[0m\u001b[1;33m\u001b[0m\u001b[1;33m\u001b[0m\u001b[0m\n",
      "\u001b[1;31mAttributeError\u001b[0m: 'list' object has no attribute 'reshape'"
     ]
    },
    {
     "data": {
      "image/png": "[encoded data removed]",
      "text/plain": [
       "<matplotlib.figure.Figure at 0x7fb95edafa10>"
      ]
     },
     "metadata": {},
     "output_type": "display_data"
    }
   ],
   "source": [
    "fig,ax = plt.subplots(1,2, figsize = (11, 5))\n",
    "plt.rcParams.update({'font.size': 13})\n",
    "\n",
    "# fig.canvas.draw()\n",
    "im = ax[0].pcolor(xp.reshape(shape),yp.reshape(shape),field.reshape(shape))\n",
    "ax[0].axis('equal')\n",
    "# ax[0].axis('tight')\n",
    "\n",
    "ax[0].set_xlabel('Easting (m)')\n",
    "ax[0].set_ylabel('Northing (m)')\n",
    "fig.colorbar(im,ax=ax[0],label=comp+' (nT)')\n",
    "\n",
    "plotDataPoints = False\n",
    "if plotDataPoints:\n",
    "    ax[0].plot(xp,yp,'.',color='k')\n",
    "\n",
    "# plot a line of data\n",
    "xline = -1.\n",
    "xvec = xp.reshape(shape)[:,0]\n",
    "ind = np.min(np.nonzero(abs(xvec - xline) == abs(xvec - xline).min()))\n",
    "ax[0].plot(xp.reshape(shape)[ind,:],yp.reshape(shape)[ind,:],'k',linewidth=1.4)\n",
    "\n",
    "ax[1].plot(yp.reshape(shape)[ind,:],fieldi.reshape(shape)[ind,:],'o-',markersize=4)\n",
    "ax[1].plot(yp.reshape(shape)[ind,:],fieldr.reshape(shape)[ind,:],'o-',markersize=4)\n",
    "ax[1].plot(yp.reshape(shape)[ind,:],fieldt.reshape(shape)[ind,:],'o-',markersize=4)\n",
    "\n",
    "ax[1].grid(which='both')\n",
    "ax[1].set_ylabel(comp+' (nT)')\n",
    "ax[1].set_xlabel('Northing (m)')\n",
    "ax[1].legend(['induced','remanent','total'])\n",
    "\n",
    "plt.tight_layout()"
   ]
  },
  {
   "cell_type": "code",
   "execution_count": null,
   "metadata": {
    "collapsed": false
   },
   "outputs": [],
   "source": []
  },
  {
   "cell_type": "code",
   "execution_count": 8,
   "metadata": {
    "collapsed": false
   },
   "outputs": [],
   "source": []
  },
  {
   "cell_type": "code",
   "execution_count": 9,
   "metadata": {
    "collapsed": false
   },
   "outputs": [
    {
     "data": {
      "text/plain": [
       "array([[-5.        , -5.        ,  0.        ],\n",
       "       [-5.        , -4.65517241,  0.        ],\n",
       "       [-5.        , -4.31034483,  0.        ],\n",
       "       ..., \n",
       "       [ 5.        ,  4.31034483,  0.        ],\n",
       "       [ 5.        ,  4.65517241,  0.        ],\n",
       "       [ 5.        ,  5.        ,  0.        ]])"
      ]
     },
     "execution_count": 9,
     "metadata": {},
     "output_type": "execute_result"
    }
   ],
   "source": [
    "# rotate the observation plane\n",
    "# XYZ is the observation plane \n"
   ]
  },
  {
   "cell_type": "code",
   "execution_count": 20,
   "metadata": {
    "collapsed": false
   },
   "outputs": [
    {
     "data": {
      "text/plain": [
       "array([ 0.,  0.,  1.])"
      ]
     },
     "execution_count": 20,
     "metadata": {},
     "output_type": "execute_result"
    }
   ],
   "source": [
    "np.r_[(x1+x2)/2., (y1+y2)/2., (z1+z2)/2.] "
   ]
  },
  {
   "cell_type": "code",
   "execution_count": 21,
   "metadata": {
    "collapsed": false
   },
   "outputs": [
    {
     "data": {
      "text/plain": [
       "array([ 1.,  0.,  0.])"
      ]
     },
     "execution_count": 21,
     "metadata": {},
     "output_type": "execute_result"
    }
   ],
   "source": [
    "utils.ang2vec(1., Binc, Bdec)"
   ]
  },
  {
   "cell_type": "code",
   "execution_count": 22,
   "metadata": {
    "collapsed": false
   },
   "outputs": [
    {
     "data": {
      "text/plain": [
       "2.718281828459045"
      ]
     },
     "execution_count": 22,
     "metadata": {},
     "output_type": "execute_result"
    }
   ],
   "source": []
  },
  {
   "cell_type": "code",
   "execution_count": null,
   "metadata": {
    "collapsed": true
   },
   "outputs": [],
   "source": []
  }
 ],
 "metadata": {
  "kernelspec": {
   "display_name": "Python 2",
   "language": "python",
   "name": "python2"
  },
  "language_info": {
   "codemirror_mode": {
    "name": "ipython",
    "version": 2
   },
   "file_extension": ".py",
   "mimetype": "text/x-python",
   "name": "python",
   "nbconvert_exporter": "python",
   "pygments_lexer": "ipython2",
   "version": "2.7.10"
  }
 },
 "nbformat": 4,
 "nbformat_minor": 0
}
